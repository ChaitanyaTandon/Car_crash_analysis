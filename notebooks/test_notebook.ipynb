{
 "cells": [
  {
   "cell_type": "code",
   "execution_count": 1,
   "id": "105dfb2f",
   "metadata": {},
   "outputs": [],
   "source": [
    "from pyspark.sql import SparkSession\n",
    "import getpass \n",
    "username=getpass.getuser()\n",
    "spark=SparkSession. \\\n",
    "    builder. \\\n",
    "    config(\"spark.sql.warehouse.dir\", f\"/user/{username}/warehouse\"). \\\n",
    "    config('spark.shuffle.useOldFetchProtocol', 'true'). \\\n",
    "    config(\"spark.app.name\",\"analysis\"). \\\n",
    "    enableHiveSupport(). \\\n",
    "    master('yarn'). \\\n",
    "    getOrCreate()"
   ]
  },
  {
   "cell_type": "code",
   "execution_count": 2,
   "id": "8288a7f5",
   "metadata": {},
   "outputs": [],
   "source": [
    "import os"
   ]
  },
  {
   "cell_type": "code",
   "execution_count": 3,
   "id": "f982dfbe",
   "metadata": {},
   "outputs": [
    {
     "data": {
      "text/plain": [
       "'/home/itv014003/car_crash_analysis'"
      ]
     },
     "execution_count": 3,
     "metadata": {},
     "output_type": "execute_result"
    }
   ],
   "source": [
    "os.getcwd()"
   ]
  },
  {
   "cell_type": "code",
   "execution_count": 4,
   "id": "4f9429a0",
   "metadata": {},
   "outputs": [
    {
     "name": "stdout",
     "output_type": "stream",
     "text": [
      "root\n",
      " |-- CRASH_ID: integer (nullable = true)\n",
      " |-- UNIT_NBR: integer (nullable = true)\n",
      " |-- PRSN_NBR: integer (nullable = true)\n",
      " |-- CHARGE: string (nullable = true)\n",
      " |-- CITATION_NBR: string (nullable = true)\n",
      "\n"
     ]
    }
   ],
   "source": [
    "df_charges = spark.read.format(\"csv\").\\\n",
    "                        option(\"header\", True). \\\n",
    "                        option(\"inferSchema\", True). \\\n",
    "                        load(\"car_crash_analysis/Charges_use.csv\")\n",
    "df_charges.printSchema()"
   ]
  },
  {
   "cell_type": "code",
   "execution_count": 5,
   "id": "771fece3",
   "metadata": {},
   "outputs": [
    {
     "name": "stdout",
     "output_type": "stream",
     "text": [
      "root\n",
      " |-- CRASH_ID: integer (nullable = true)\n",
      " |-- DAMAGED_PROPERTY: string (nullable = true)\n",
      "\n"
     ]
    }
   ],
   "source": [
    "df_damages = spark.read.format(\"csv\").\\\n",
    "                        option(\"header\", True). \\\n",
    "                        option(\"inferSchema\", True). \\\n",
    "                        load(\"car_crash_analysis/Damages_use.csv\")\n",
    "df_damages.printSchema()"
   ]
  },
  {
   "cell_type": "code",
   "execution_count": 6,
   "id": "cd13b31e",
   "metadata": {},
   "outputs": [
    {
     "name": "stdout",
     "output_type": "stream",
     "text": [
      "root\n",
      " |-- CRASH_ID: integer (nullable = true)\n",
      " |-- UNIT_NBR: integer (nullable = true)\n",
      " |-- DRVR_LIC_ENDORS_ID: string (nullable = true)\n",
      "\n"
     ]
    }
   ],
   "source": [
    "df_Endorse = spark.read.format(\"csv\").\\\n",
    "                        option(\"header\", True). \\\n",
    "                        option(\"inferSchema\", True). \\\n",
    "                        load(\"car_crash_analysis/Endorse_use.csv\")\n",
    "df_Endorse.printSchema()"
   ]
  },
  {
   "cell_type": "code",
   "execution_count": 7,
   "id": "d3a04a28",
   "metadata": {},
   "outputs": [
    {
     "name": "stdout",
     "output_type": "stream",
     "text": [
      "root\n",
      " |-- CRASH_ID: integer (nullable = true)\n",
      " |-- UNIT_NBR: integer (nullable = true)\n",
      " |-- PRSN_NBR: integer (nullable = true)\n",
      " |-- PRSN_TYPE_ID: string (nullable = true)\n",
      " |-- PRSN_OCCPNT_POS_ID: string (nullable = true)\n",
      " |-- PRSN_INJRY_SEV_ID: string (nullable = true)\n",
      " |-- PRSN_AGE: string (nullable = true)\n",
      " |-- PRSN_ETHNICITY_ID: string (nullable = true)\n",
      " |-- PRSN_GNDR_ID: string (nullable = true)\n",
      " |-- PRSN_EJCT_ID: string (nullable = true)\n",
      " |-- PRSN_REST_ID: string (nullable = true)\n",
      " |-- PRSN_AIRBAG_ID: string (nullable = true)\n",
      " |-- PRSN_HELMET_ID: string (nullable = true)\n",
      " |-- PRSN_SOL_FL: string (nullable = true)\n",
      " |-- PRSN_ALC_SPEC_TYPE_ID: string (nullable = true)\n",
      " |-- PRSN_ALC_RSLT_ID: string (nullable = true)\n",
      " |-- PRSN_BAC_TEST_RSLT: string (nullable = true)\n",
      " |-- PRSN_DRG_SPEC_TYPE_ID: string (nullable = true)\n",
      " |-- PRSN_DRG_RSLT_ID: string (nullable = true)\n",
      " |-- DRVR_DRG_CAT_1_ID: string (nullable = true)\n",
      " |-- PRSN_DEATH_TIME: string (nullable = true)\n",
      " |-- INCAP_INJRY_CNT: integer (nullable = true)\n",
      " |-- NONINCAP_INJRY_CNT: integer (nullable = true)\n",
      " |-- POSS_INJRY_CNT: integer (nullable = true)\n",
      " |-- NON_INJRY_CNT: integer (nullable = true)\n",
      " |-- UNKN_INJRY_CNT: integer (nullable = true)\n",
      " |-- TOT_INJRY_CNT: integer (nullable = true)\n",
      " |-- DEATH_CNT: integer (nullable = true)\n",
      " |-- DRVR_LIC_TYPE_ID: string (nullable = true)\n",
      " |-- DRVR_LIC_STATE_ID: string (nullable = true)\n",
      " |-- DRVR_LIC_CLS_ID: string (nullable = true)\n",
      " |-- DRVR_ZIP: string (nullable = true)\n",
      "\n"
     ]
    }
   ],
   "source": [
    "df_primary_person = spark.read.format(\"csv\").\\\n",
    "                        option(\"header\", True). \\\n",
    "                        option(\"inferSchema\", True). \\\n",
    "                        load(\"car_crash_analysis/Primary_Person_use.csv\")\n",
    "df_primary_person.printSchema()"
   ]
  },
  {
   "cell_type": "code",
   "execution_count": 8,
   "id": "485188a4",
   "metadata": {},
   "outputs": [
    {
     "name": "stdout",
     "output_type": "stream",
     "text": [
      "root\n",
      " |-- CRASH_ID: integer (nullable = true)\n",
      " |-- UNIT_NBR: integer (nullable = true)\n",
      " |-- DRVR_LIC_RESTRIC_ID: string (nullable = true)\n",
      "\n"
     ]
    }
   ],
   "source": [
    "df_restrict = spark.read.format(\"csv\").\\\n",
    "                        option(\"header\", True). \\\n",
    "                        option(\"inferSchema\", True). \\\n",
    "                        load(\"car_crash_analysis/Restrict_use.csv\")\n",
    "df_restrict.printSchema()"
   ]
  },
  {
   "cell_type": "code",
   "execution_count": 9,
   "id": "6ab869c1",
   "metadata": {},
   "outputs": [
    {
     "name": "stdout",
     "output_type": "stream",
     "text": [
      "root\n",
      " |-- CRASH_ID: integer (nullable = true)\n",
      " |-- UNIT_NBR: integer (nullable = true)\n",
      " |-- UNIT_DESC_ID: string (nullable = true)\n",
      " |-- VEH_PARKED_FL: string (nullable = true)\n",
      " |-- VEH_HNR_FL: string (nullable = true)\n",
      " |-- VEH_LIC_STATE_ID: string (nullable = true)\n",
      " |-- VIN: string (nullable = true)\n",
      " |-- VEH_MOD_YEAR: string (nullable = true)\n",
      " |-- VEH_COLOR_ID: string (nullable = true)\n",
      " |-- VEH_MAKE_ID: string (nullable = true)\n",
      " |-- VEH_MOD_ID: string (nullable = true)\n",
      " |-- VEH_BODY_STYL_ID: string (nullable = true)\n",
      " |-- EMER_RESPNDR_FL: string (nullable = true)\n",
      " |-- OWNR_ZIP: string (nullable = true)\n",
      " |-- FIN_RESP_PROOF_ID: string (nullable = true)\n",
      " |-- FIN_RESP_TYPE_ID: string (nullable = true)\n",
      " |-- VEH_DMAG_AREA_1_ID: string (nullable = true)\n",
      " |-- VEH_DMAG_SCL_1_ID: string (nullable = true)\n",
      " |-- FORCE_DIR_1_ID: string (nullable = true)\n",
      " |-- VEH_DMAG_AREA_2_ID: string (nullable = true)\n",
      " |-- VEH_DMAG_SCL_2_ID: string (nullable = true)\n",
      " |-- FORCE_DIR_2_ID: string (nullable = true)\n",
      " |-- VEH_INVENTORIED_FL: string (nullable = true)\n",
      " |-- VEH_TRANSP_NAME: string (nullable = true)\n",
      " |-- VEH_TRANSP_DEST: string (nullable = true)\n",
      " |-- CONTRIB_FACTR_1_ID: string (nullable = true)\n",
      " |-- CONTRIB_FACTR_2_ID: string (nullable = true)\n",
      " |-- CONTRIB_FACTR_P1_ID: string (nullable = true)\n",
      " |-- VEH_TRVL_DIR_ID: string (nullable = true)\n",
      " |-- FIRST_HARM_EVT_INV_ID: string (nullable = true)\n",
      " |-- INCAP_INJRY_CNT: integer (nullable = true)\n",
      " |-- NONINCAP_INJRY_CNT: integer (nullable = true)\n",
      " |-- POSS_INJRY_CNT: integer (nullable = true)\n",
      " |-- NON_INJRY_CNT: integer (nullable = true)\n",
      " |-- UNKN_INJRY_CNT: integer (nullable = true)\n",
      " |-- TOT_INJRY_CNT: integer (nullable = true)\n",
      " |-- DEATH_CNT: integer (nullable = true)\n",
      "\n"
     ]
    }
   ],
   "source": [
    "df_units = spark.read.format(\"csv\").\\\n",
    "                        option(\"header\", True). \\\n",
    "                        option(\"inferSchema\", True). \\\n",
    "                        load(\"car_crash_analysis/Units_use.csv\")\n",
    "df_units.printSchema()"
   ]
  },
  {
   "cell_type": "code",
   "execution_count": 59,
   "id": "8241ade1",
   "metadata": {},
   "outputs": [
    {
     "name": "stdout",
     "output_type": "stream",
     "text": [
      "+--------+--------+--------+--------------------+------------+\n",
      "|CRASH_ID|UNIT_NBR|PRSN_NBR|              CHARGE|CITATION_NBR|\n",
      "+--------+--------+--------+--------------------+------------+\n",
      "|14768622|       1|       1|DRIVING WHILE INT...|        null|\n",
      "+--------+--------+--------+--------------------+------------+\n",
      "only showing top 1 row\n",
      "\n"
     ]
    }
   ],
   "source": [
    "df_charges.show(1)"
   ]
  },
  {
   "cell_type": "code",
   "execution_count": 60,
   "id": "5a42edae",
   "metadata": {},
   "outputs": [
    {
     "name": "stdout",
     "output_type": "stream",
     "text": [
      "+--------+----------------+\n",
      "|CRASH_ID|DAMAGED_PROPERTY|\n",
      "+--------+----------------+\n",
      "|14768622|         MAILBOX|\n",
      "+--------+----------------+\n",
      "only showing top 1 row\n",
      "\n"
     ]
    }
   ],
   "source": [
    "df_damages.show(1)"
   ]
  },
  {
   "cell_type": "code",
   "execution_count": 61,
   "id": "fcca32ff",
   "metadata": {},
   "outputs": [
    {
     "name": "stdout",
     "output_type": "stream",
     "text": [
      "+--------+--------+------------------+\n",
      "|CRASH_ID|UNIT_NBR|DRVR_LIC_ENDORS_ID|\n",
      "+--------+--------+------------------+\n",
      "|14768622|       1|              NONE|\n",
      "|14838637|       1|              NONE|\n",
      "|14838637|       2|              NONE|\n",
      "|14838641|       1|              NONE|\n",
      "|14838641|       2|        UNLICENSED|\n",
      "+--------+--------+------------------+\n",
      "only showing top 5 rows\n",
      "\n"
     ]
    }
   ],
   "source": [
    "df_Endorse.show(5)"
   ]
  },
  {
   "cell_type": "code",
   "execution_count": 62,
   "id": "7ea185ab",
   "metadata": {},
   "outputs": [
    {
     "name": "stdout",
     "output_type": "stream",
     "text": [
      "+--------+--------+--------+------------+------------------+-----------------+--------+-----------------+------------+------------+------------+-----------------+--------------+-----------+---------------------+----------------+------------------+---------------------+----------------+-----------------+---------------+---------------+------------------+--------------+-------------+--------------+-------------+---------+----------------+-----------------+---------------+--------+\n",
      "|CRASH_ID|UNIT_NBR|PRSN_NBR|PRSN_TYPE_ID|PRSN_OCCPNT_POS_ID|PRSN_INJRY_SEV_ID|PRSN_AGE|PRSN_ETHNICITY_ID|PRSN_GNDR_ID|PRSN_EJCT_ID|PRSN_REST_ID|   PRSN_AIRBAG_ID|PRSN_HELMET_ID|PRSN_SOL_FL|PRSN_ALC_SPEC_TYPE_ID|PRSN_ALC_RSLT_ID|PRSN_BAC_TEST_RSLT|PRSN_DRG_SPEC_TYPE_ID|PRSN_DRG_RSLT_ID|DRVR_DRG_CAT_1_ID|PRSN_DEATH_TIME|INCAP_INJRY_CNT|NONINCAP_INJRY_CNT|POSS_INJRY_CNT|NON_INJRY_CNT|UNKN_INJRY_CNT|TOT_INJRY_CNT|DEATH_CNT|DRVR_LIC_TYPE_ID|DRVR_LIC_STATE_ID|DRVR_LIC_CLS_ID|DRVR_ZIP|\n",
      "+--------+--------+--------+------------+------------------+-----------------+--------+-----------------+------------+------------+------------+-----------------+--------------+-----------+---------------------+----------------+------------------+---------------------+----------------+-----------------+---------------+---------------+------------------+--------------+-------------+--------------+-------------+---------+----------------+-----------------+---------------+--------+\n",
      "|14768622|       1|       1|      DRIVER|        FRONT LEFT|      NOT INJURED|      27|         HISPANIC|        MALE|          NO|        NONE|DEPLOYED MULTIPLE|NOT APPLICABLE|          N|                BLOOD|        Positive|             0.225|                 NONE|  NOT APPLICABLE|   NOT APPLICABLE|           null|              0|                 0|             0|            1|             0|            0|        0|  DRIVER LICENSE|            Texas|        CLASS C|   77357|\n",
      "+--------+--------+--------+------------+------------------+-----------------+--------+-----------------+------------+------------+------------+-----------------+--------------+-----------+---------------------+----------------+------------------+---------------------+----------------+-----------------+---------------+---------------+------------------+--------------+-------------+--------------+-------------+---------+----------------+-----------------+---------------+--------+\n",
      "only showing top 1 row\n",
      "\n"
     ]
    }
   ],
   "source": [
    "df_primary_person.show(1)"
   ]
  },
  {
   "cell_type": "code",
   "execution_count": 63,
   "id": "211ab594",
   "metadata": {},
   "outputs": [
    {
     "name": "stdout",
     "output_type": "stream",
     "text": [
      "+--------+--------+-------------------+\n",
      "|CRASH_ID|UNIT_NBR|DRVR_LIC_RESTRIC_ID|\n",
      "+--------+--------+-------------------+\n",
      "|14768622|       1|               NONE|\n",
      "+--------+--------+-------------------+\n",
      "only showing top 1 row\n",
      "\n"
     ]
    }
   ],
   "source": [
    "df_restrict.show(1)"
   ]
  },
  {
   "cell_type": "code",
   "execution_count": 64,
   "id": "f11511c8",
   "metadata": {},
   "outputs": [
    {
     "name": "stdout",
     "output_type": "stream",
     "text": [
      "+--------+--------+-------------+-------------+----------+----------------+-----------------+------------+------------+-----------+----------+--------------------+---------------+--------+-----------------+----------------+--------------------+-----------------+--------------+--------------------+-----------------+--------------+------------------+---------------+--------------------+--------------------+------------------+-------------------+---------------+---------------------+---------------+------------------+--------------+-------------+--------------+-------------+---------+\n",
      "|CRASH_ID|UNIT_NBR| UNIT_DESC_ID|VEH_PARKED_FL|VEH_HNR_FL|VEH_LIC_STATE_ID|              VIN|VEH_MOD_YEAR|VEH_COLOR_ID|VEH_MAKE_ID|VEH_MOD_ID|    VEH_BODY_STYL_ID|EMER_RESPNDR_FL|OWNR_ZIP|FIN_RESP_PROOF_ID|FIN_RESP_TYPE_ID|  VEH_DMAG_AREA_1_ID|VEH_DMAG_SCL_1_ID|FORCE_DIR_1_ID|  VEH_DMAG_AREA_2_ID|VEH_DMAG_SCL_2_ID|FORCE_DIR_2_ID|VEH_INVENTORIED_FL|VEH_TRANSP_NAME|     VEH_TRANSP_DEST|  CONTRIB_FACTR_1_ID|CONTRIB_FACTR_2_ID|CONTRIB_FACTR_P1_ID|VEH_TRVL_DIR_ID|FIRST_HARM_EVT_INV_ID|INCAP_INJRY_CNT|NONINCAP_INJRY_CNT|POSS_INJRY_CNT|NON_INJRY_CNT|UNKN_INJRY_CNT|TOT_INJRY_CNT|DEATH_CNT|\n",
      "+--------+--------+-------------+-------------+----------+----------------+-----------------+------------+------------+-----------+----------+--------------------+---------------+--------+-----------------+----------------+--------------------+-----------------+--------------+--------------------+-----------------+--------------+------------------+---------------+--------------------+--------------------+------------------+-------------------+---------------+---------------------+---------------+------------------+--------------+-------------+--------------+-------------+---------+\n",
      "|14768622|       1|MOTOR VEHICLE|            N|         N|              TX|4S2CK57D1X4381118|        1999|         GRY|      ISUZU|     AMIGO|PASSENGER CAR, 4-...|              Y|   77357|                2|              NA|FRONT END DAMAGE ...|        DAMAGED 3|             1|LEFT SIDE AND TOP...|        DAMAGED 4|             3|                 Y|VALENTIN TOWING|20288 FM 1314 POR...|UNDER INFLUENCE -...|                NA|                 NA|           EAST|                    Y|              0|                 0|             0|            1|             0|            0|        0|\n",
      "+--------+--------+-------------+-------------+----------+----------------+-----------------+------------+------------+-----------+----------+--------------------+---------------+--------+-----------------+----------------+--------------------+-----------------+--------------+--------------------+-----------------+--------------+------------------+---------------+--------------------+--------------------+------------------+-------------------+---------------+---------------------+---------------+------------------+--------------+-------------+--------------+-------------+---------+\n",
      "only showing top 1 row\n",
      "\n"
     ]
    }
   ],
   "source": [
    "df_units.show(1)"
   ]
  },
  {
   "cell_type": "markdown",
   "id": "4b9a3557",
   "metadata": {},
   "source": [
    "#### \tAnalytics 1: Find the number of crashes (accidents) in which number of males killed are greater than 2?"
   ]
  },
  {
   "cell_type": "raw",
   "id": "3fdc6c95",
   "metadata": {},
   "source": [
    "Data dictionary ref.\n",
    "\n",
    "PRSN_INJRY_SEV_ID\tSeverity of injury to the occupant\n"
   ]
  },
  {
   "cell_type": "code",
   "execution_count": 74,
   "id": "b16aabb9",
   "metadata": {},
   "outputs": [],
   "source": [
    "df_primary_person_male = df_primary_person.filter(df_primary_person.PRSN_GNDR_ID == \"MALE\")"
   ]
  },
  {
   "cell_type": "code",
   "execution_count": null,
   "id": "e9a136e5",
   "metadata": {},
   "outputs": [],
   "source": []
  },
  {
   "cell_type": "code",
   "execution_count": 75,
   "id": "c824c777",
   "metadata": {},
   "outputs": [],
   "source": [
    "from pyspark.sql.functions import sum,desc\n",
    "df_male_death_counts = df_primary_person_male.groupBy(\"CRASH_ID\").agg(\n",
    "                                                                      sum(\"DEATH_CNT\").alias(\"total_deaths\")\n",
    "                                                                      )\n"
   ]
  },
  {
   "cell_type": "code",
   "execution_count": 76,
   "id": "95f6741c",
   "metadata": {},
   "outputs": [],
   "source": [
    "crashes_male_deaths_more_than_2 = df_male_death_counts.filter(df_male_death_counts.total_deaths > 2).count()"
   ]
  },
  {
   "cell_type": "code",
   "execution_count": 77,
   "id": "5cc574d4",
   "metadata": {},
   "outputs": [
    {
     "name": "stdout",
     "output_type": "stream",
     "text": [
      "0\n"
     ]
    }
   ],
   "source": [
    "print(crashes_male_deaths_more_than_2)"
   ]
  },
  {
   "cell_type": "code",
   "execution_count": 46,
   "id": "eeb25ab3",
   "metadata": {},
   "outputs": [],
   "source": [
    "spark.stop()"
   ]
  },
  {
   "cell_type": "markdown",
   "id": "01af88d4",
   "metadata": {},
   "source": [
    "#### Analysis 2: How many two wheelers are booked for crashes? "
   ]
  },
  {
   "cell_type": "code",
   "execution_count": 13,
   "id": "0b7e6842",
   "metadata": {},
   "outputs": [],
   "source": [
    "from pyspark.sql.functions import col,count,desc,sum,rank,regexp_extract,row_number,countDistinct\n",
    "from pyspark.sql.window import Window"
   ]
  },
  {
   "cell_type": "code",
   "execution_count": 14,
   "id": "86662a28",
   "metadata": {},
   "outputs": [
    {
     "data": {
      "text/html": [
       "<table border='1'>\n",
       "<tr><th>count</th></tr>\n",
       "<tr><td>766</td></tr>\n",
       "</table>\n"
      ],
      "text/plain": [
       "+-----+\n",
       "|count|\n",
       "+-----+\n",
       "|  766|\n",
       "+-----+"
      ]
     },
     "execution_count": 14,
     "metadata": {},
     "output_type": "execute_result"
    }
   ],
   "source": [
    "df_units.select('VIN').filter((col('VEH_BODY_STYL_ID')).like('%MOTORCYCLE%')).agg(countDistinct('VIN').alias('count'))"
   ]
  },
  {
   "cell_type": "code",
   "execution_count": null,
   "id": "ae4c6871",
   "metadata": {},
   "outputs": [],
   "source": []
  },
  {
   "cell_type": "code",
   "execution_count": null,
   "id": "430199c9",
   "metadata": {},
   "outputs": [],
   "source": []
  },
  {
   "cell_type": "code",
   "execution_count": null,
   "id": "9c9f7d03",
   "metadata": {},
   "outputs": [],
   "source": []
  },
  {
   "cell_type": "markdown",
   "id": "60a3a3c4",
   "metadata": {},
   "source": [
    "#### Analysis 3: Determine the Top 5 Vehicle Makes of the cars present in the crashes in which driver died and Airbags did not deploy."
   ]
  },
  {
   "cell_type": "code",
   "execution_count": 65,
   "id": "c3e83060",
   "metadata": {},
   "outputs": [
    {
     "name": "stdout",
     "output_type": "stream",
     "text": [
      "+--------+--------+--------+------------+------------------+-----------------+--------+-----------------+------------+------------+------------+-----------------+--------------+-----------+---------------------+----------------+------------------+---------------------+----------------+-----------------+---------------+---------------+------------------+--------------+-------------+--------------+-------------+---------+----------------+-----------------+---------------+--------+\n",
      "|CRASH_ID|UNIT_NBR|PRSN_NBR|PRSN_TYPE_ID|PRSN_OCCPNT_POS_ID|PRSN_INJRY_SEV_ID|PRSN_AGE|PRSN_ETHNICITY_ID|PRSN_GNDR_ID|PRSN_EJCT_ID|PRSN_REST_ID|   PRSN_AIRBAG_ID|PRSN_HELMET_ID|PRSN_SOL_FL|PRSN_ALC_SPEC_TYPE_ID|PRSN_ALC_RSLT_ID|PRSN_BAC_TEST_RSLT|PRSN_DRG_SPEC_TYPE_ID|PRSN_DRG_RSLT_ID|DRVR_DRG_CAT_1_ID|PRSN_DEATH_TIME|INCAP_INJRY_CNT|NONINCAP_INJRY_CNT|POSS_INJRY_CNT|NON_INJRY_CNT|UNKN_INJRY_CNT|TOT_INJRY_CNT|DEATH_CNT|DRVR_LIC_TYPE_ID|DRVR_LIC_STATE_ID|DRVR_LIC_CLS_ID|DRVR_ZIP|\n",
      "+--------+--------+--------+------------+------------------+-----------------+--------+-----------------+------------+------------+------------+-----------------+--------------+-----------+---------------------+----------------+------------------+---------------------+----------------+-----------------+---------------+---------------+------------------+--------------+-------------+--------------+-------------+---------+----------------+-----------------+---------------+--------+\n",
      "|14768622|       1|       1|      DRIVER|        FRONT LEFT|      NOT INJURED|      27|         HISPANIC|        MALE|          NO|        NONE|DEPLOYED MULTIPLE|NOT APPLICABLE|          N|                BLOOD|        Positive|             0.225|                 NONE|  NOT APPLICABLE|   NOT APPLICABLE|           null|              0|                 0|             0|            1|             0|            0|        0|  DRIVER LICENSE|            Texas|        CLASS C|   77357|\n",
      "+--------+--------+--------+------------+------------------+-----------------+--------+-----------------+------------+------------+------------+-----------------+--------------+-----------+---------------------+----------------+------------------+---------------------+----------------+-----------------+---------------+---------------+------------------+--------------+-------------+--------------+-------------+---------+----------------+-----------------+---------------+--------+\n",
      "only showing top 1 row\n",
      "\n"
     ]
    }
   ],
   "source": [
    "df_primary_person.show(1)"
   ]
  },
  {
   "cell_type": "code",
   "execution_count": 66,
   "id": "7074885f",
   "metadata": {},
   "outputs": [],
   "source": [
    "df_driver = df_primary_person.filter((col('PRSN_TYPE_ID')).like('DRIVER'))"
   ]
  },
  {
   "cell_type": "code",
   "execution_count": 67,
   "id": "3f83f73f",
   "metadata": {},
   "outputs": [],
   "source": [
    "df_driver_killed = df_driver.filter((col('PRSN_INJRY_SEV_ID') == 'KILLED'))"
   ]
  },
  {
   "cell_type": "code",
   "execution_count": 71,
   "id": "c4e3f9ed",
   "metadata": {},
   "outputs": [],
   "source": [
    "df_airbags_not_deployed = df_driver_killed.filter((col('PRSN_AIRBAG_ID') == 'NOT DEPLOYED'))"
   ]
  },
  {
   "cell_type": "code",
   "execution_count": 72,
   "id": "57aa154a",
   "metadata": {},
   "outputs": [
    {
     "data": {
      "text/html": [
       "<table border='1'>\n",
       "<tr><th>CRASH_ID</th><th>UNIT_NBR</th><th>PRSN_NBR</th><th>PRSN_TYPE_ID</th><th>PRSN_OCCPNT_POS_ID</th><th>PRSN_INJRY_SEV_ID</th><th>PRSN_AGE</th><th>PRSN_ETHNICITY_ID</th><th>PRSN_GNDR_ID</th><th>PRSN_EJCT_ID</th><th>PRSN_REST_ID</th><th>PRSN_AIRBAG_ID</th><th>PRSN_HELMET_ID</th><th>PRSN_SOL_FL</th><th>PRSN_ALC_SPEC_TYPE_ID</th><th>PRSN_ALC_RSLT_ID</th><th>PRSN_BAC_TEST_RSLT</th><th>PRSN_DRG_SPEC_TYPE_ID</th><th>PRSN_DRG_RSLT_ID</th><th>DRVR_DRG_CAT_1_ID</th><th>PRSN_DEATH_TIME</th><th>INCAP_INJRY_CNT</th><th>NONINCAP_INJRY_CNT</th><th>POSS_INJRY_CNT</th><th>NON_INJRY_CNT</th><th>UNKN_INJRY_CNT</th><th>TOT_INJRY_CNT</th><th>DEATH_CNT</th><th>DRVR_LIC_TYPE_ID</th><th>DRVR_LIC_STATE_ID</th><th>DRVR_LIC_CLS_ID</th><th>DRVR_ZIP</th></tr>\n",
       "<tr><td>14848300</td><td>2</td><td>1</td><td>DRIVER</td><td>FRONT LEFT</td><td>KILLED</td><td>38</td><td>WHITE</td><td>MALE</td><td>NO</td><td>SHOULDER &amp; LAP BELT</td><td>NOT DEPLOYED</td><td>NOT APPLICABLE</td><td>N</td><td>BLOOD</td><td>Negative</td><td>0</td><td>BLOOD</td><td>Positive</td><td>CNS STIMULANTS</td><td>04:43:00</td><td>0</td><td>0</td><td>0</td><td>0</td><td>0</td><td>0</td><td>1</td><td>DRIVER LICENSE</td><td>Texas</td><td>CLASS C</td><td>76574</td></tr>\n",
       "<tr><td>14854567</td><td>3</td><td>1</td><td>DRIVER</td><td>FRONT LEFT</td><td>KILLED</td><td>77</td><td>BLACK</td><td>MALE</td><td>NO</td><td>SHOULDER &amp; LAP BELT</td><td>NOT DEPLOYED</td><td>NOT APPLICABLE</td><td>N</td><td>NONE</td><td>NA</td><td>NA</td><td>NONE</td><td>NOT APPLICABLE</td><td>NOT APPLICABLE</td><td>07:32:00</td><td>0</td><td>0</td><td>0</td><td>0</td><td>0</td><td>0</td><td>1</td><td>DRIVER LICENSE</td><td>Texas</td><td>CLASS C</td><td>77412</td></tr>\n",
       "<tr><td>14909057</td><td>1</td><td>1</td><td>DRIVER</td><td>FRONT LEFT</td><td>KILLED</td><td>37</td><td>BLACK</td><td>MALE</td><td>YES</td><td>NONE</td><td>NOT DEPLOYED</td><td>NOT APPLICABLE</td><td>N</td><td>BLOOD</td><td>Positive</td><td>0.114</td><td>BLOOD</td><td>NOT APPLICABLE</td><td>NOT APPLICABLE</td><td>01:00:00</td><td>0</td><td>0</td><td>0</td><td>0</td><td>0</td><td>0</td><td>1</td><td>UNLICENSED</td><td>NA</td><td>UNLICENSED</td><td>75683</td></tr>\n",
       "<tr><td>14920297</td><td>1</td><td>1</td><td>DRIVER</td><td>FRONT LEFT</td><td>KILLED</td><td>21</td><td>WHITE</td><td>MALE</td><td>YES</td><td>NONE</td><td>NOT DEPLOYED</td><td>NOT APPLICABLE</td><td>N</td><td>OTHER (EXPLAIN IN...</td><td>Positive</td><td>0.196</td><td>OTHER (EXPLAIN IN...</td><td>Negative</td><td>NOT APPLICABLE</td><td>06:55:00</td><td>0</td><td>0</td><td>0</td><td>0</td><td>0</td><td>0</td><td>1</td><td>DRIVER LICENSE</td><td>Texas</td><td>CLASS C</td><td>77316</td></tr>\n",
       "<tr><td>14925518</td><td>1</td><td>1</td><td>DRIVER</td><td>FRONT LEFT</td><td>KILLED</td><td>30</td><td>HISPANIC</td><td>MALE</td><td>NO</td><td>UNKNOWN</td><td>NOT DEPLOYED</td><td>NOT APPLICABLE</td><td>N</td><td>NONE</td><td>NA</td><td>NA</td><td>NONE</td><td>NOT APPLICABLE</td><td>NOT APPLICABLE</td><td>18:20:00</td><td>0</td><td>0</td><td>0</td><td>0</td><td>0</td><td>0</td><td>1</td><td>ID CARD</td><td>Texas</td><td>UNLICENSED</td><td>78242</td></tr>\n",
       "<tr><td>14932526</td><td>2</td><td>1</td><td>DRIVER</td><td>FRONT LEFT</td><td>KILLED</td><td>29</td><td>WHITE</td><td>MALE</td><td>NO</td><td>NONE</td><td>NOT DEPLOYED</td><td>NOT APPLICABLE</td><td>N</td><td>BLOOD</td><td>Negative</td><td>0</td><td>BLOOD</td><td>Negative</td><td>NOT APPLICABLE</td><td>05:56:00</td><td>0</td><td>0</td><td>0</td><td>0</td><td>0</td><td>0</td><td>1</td><td>DRIVER LICENSE</td><td>Texas</td><td>CLASS C</td><td>78121</td></tr>\n",
       "<tr><td>14940520</td><td>2</td><td>1</td><td>DRIVER</td><td>FRONT LEFT</td><td>KILLED</td><td>39</td><td>WHITE</td><td>FEMALE</td><td>NO</td><td>UNKNOWN</td><td>NOT DEPLOYED</td><td>NOT APPLICABLE</td><td>N</td><td>BLOOD</td><td>Negative</td><td>0</td><td>BLOOD</td><td>Negative</td><td>NOT APPLICABLE</td><td>20:10:00</td><td>0</td><td>0</td><td>0</td><td>0</td><td>0</td><td>0</td><td>1</td><td>DRIVER LICENSE</td><td>Texas</td><td>CLASS C</td><td>79106</td></tr>\n",
       "<tr><td>15002687</td><td>2</td><td>1</td><td>DRIVER</td><td>FRONT LEFT</td><td>KILLED</td><td>44</td><td>HISPANIC</td><td>FEMALE</td><td>YES</td><td>NONE</td><td>NOT DEPLOYED</td><td>NOT APPLICABLE</td><td>N</td><td>NONE</td><td>NA</td><td>NA</td><td>NONE</td><td>NOT APPLICABLE</td><td>NOT APPLICABLE</td><td>20:20:00</td><td>0</td><td>0</td><td>0</td><td>0</td><td>0</td><td>0</td><td>1</td><td>DRIVER LICENSE</td><td>Texas</td><td>CLASS C</td><td>76103</td></tr>\n",
       "<tr><td>15005255</td><td>2</td><td>1</td><td>DRIVER</td><td>FRONT LEFT</td><td>KILLED</td><td>71</td><td>BLACK</td><td>FEMALE</td><td>NO</td><td>SHOULDER &amp; LAP BELT</td><td>NOT DEPLOYED</td><td>NOT APPLICABLE</td><td>N</td><td>NONE</td><td>NA</td><td>NA</td><td>NONE</td><td>NOT APPLICABLE</td><td>NOT APPLICABLE</td><td>15:20:00</td><td>0</td><td>0</td><td>0</td><td>0</td><td>0</td><td>0</td><td>1</td><td>DRIVER LICENSE</td><td>Texas</td><td>CLASS C</td><td>77033</td></tr>\n",
       "<tr><td>15010732</td><td>1</td><td>1</td><td>DRIVER</td><td>FRONT LEFT</td><td>KILLED</td><td>18</td><td>HISPANIC</td><td>MALE</td><td>NO</td><td>UNKNOWN</td><td>NOT DEPLOYED</td><td>NOT APPLICABLE</td><td>N</td><td>OTHER (EXPLAIN IN...</td><td>NA</td><td>NA</td><td>OTHER (EXPLAIN IN...</td><td>UNKNOWN</td><td>UNKNOWN</td><td>14:01:00</td><td>0</td><td>0</td><td>0</td><td>0</td><td>0</td><td>0</td><td>1</td><td>DRIVER LICENSE</td><td>Texas</td><td>CLASS C</td><td>78596</td></tr>\n",
       "<tr><td>15014078</td><td>1</td><td>1</td><td>DRIVER</td><td>FRONT LEFT</td><td>KILLED</td><td>42</td><td>WHITE</td><td>MALE</td><td>NO</td><td>SHOULDER &amp; LAP BELT</td><td>NOT DEPLOYED</td><td>NOT APPLICABLE</td><td>N</td><td>BLOOD</td><td>Positive</td><td>0.256</td><td>BLOOD</td><td>Negative</td><td>NOT APPLICABLE</td><td>02:39:00</td><td>0</td><td>0</td><td>0</td><td>0</td><td>0</td><td>0</td><td>1</td><td>DRIVER LICENSE</td><td>Texas</td><td>CLASS C</td><td>77088</td></tr>\n",
       "<tr><td>15043627</td><td>1</td><td>1</td><td>DRIVER</td><td>FRONT LEFT</td><td>KILLED</td><td>20</td><td>WHITE</td><td>MALE</td><td>YES</td><td>NONE</td><td>NOT DEPLOYED</td><td>NOT APPLICABLE</td><td>N</td><td>OTHER (EXPLAIN IN...</td><td>NA</td><td>NA</td><td>NONE</td><td>NOT APPLICABLE</td><td>NOT APPLICABLE</td><td>15:32:00</td><td>0</td><td>0</td><td>0</td><td>0</td><td>0</td><td>0</td><td>1</td><td>DRIVER LICENSE</td><td>Texas</td><td>CLASS C</td><td>77351</td></tr>\n",
       "<tr><td>15070158</td><td>3</td><td>1</td><td>DRIVER</td><td>FRONT LEFT</td><td>KILLED</td><td>57</td><td>WHITE</td><td>MALE</td><td>NO</td><td>SHOULDER &amp; LAP BELT</td><td>NOT DEPLOYED</td><td>NOT APPLICABLE</td><td>N</td><td>NONE</td><td>NA</td><td>NA</td><td>NONE</td><td>NOT APPLICABLE</td><td>NOT APPLICABLE</td><td>11:06:00</td><td>0</td><td>0</td><td>0</td><td>0</td><td>0</td><td>0</td><td>1</td><td>DRIVER LICENSE</td><td>Texas</td><td>CLASS C</td><td>77627</td></tr>\n",
       "<tr><td>15081189</td><td>2</td><td>1</td><td>DRIVER</td><td>FRONT LEFT</td><td>KILLED</td><td>62</td><td>BLACK</td><td>MALE</td><td>YES, PARTIAL</td><td>SHOULDER &amp; LAP BELT</td><td>NOT DEPLOYED</td><td>NOT APPLICABLE</td><td>N</td><td>BLOOD</td><td>Positive</td><td>0.096</td><td>BLOOD</td><td>Negative</td><td>NOT APPLICABLE</td><td>02:08:00</td><td>0</td><td>0</td><td>0</td><td>0</td><td>0</td><td>0</td><td>1</td><td>DRIVER LICENSE</td><td>Texas</td><td>CLASS C</td><td>77045</td></tr>\n",
       "<tr><td>15114521</td><td>3</td><td>1</td><td>DRIVER</td><td>FRONT LEFT</td><td>KILLED</td><td>74</td><td>WHITE</td><td>MALE</td><td>YES</td><td>NONE</td><td>NOT DEPLOYED</td><td>NOT APPLICABLE</td><td>N</td><td>NONE</td><td>NA</td><td>NA</td><td>NONE</td><td>NOT APPLICABLE</td><td>NOT APPLICABLE</td><td>18:05:00</td><td>0</td><td>0</td><td>0</td><td>0</td><td>0</td><td>0</td><td>1</td><td>DRIVER LICENSE</td><td>Texas</td><td>CLASS A</td><td>79088</td></tr>\n",
       "<tr><td>15149988</td><td>2</td><td>1</td><td>DRIVER</td><td>FRONT LEFT</td><td>KILLED</td><td>40</td><td>BLACK</td><td>FEMALE</td><td>NO</td><td>SHOULDER &amp; LAP BELT</td><td>NOT DEPLOYED</td><td>NOT APPLICABLE</td><td>N</td><td>BLOOD</td><td>Negative</td><td>0</td><td>BLOOD</td><td>Negative</td><td>NOT APPLICABLE</td><td>19:23:00</td><td>0</td><td>0</td><td>0</td><td>0</td><td>0</td><td>0</td><td>1</td><td>DRIVER LICENSE</td><td>Texas</td><td>CLASS C</td><td>77320</td></tr>\n",
       "<tr><td>15158717</td><td>1</td><td>1</td><td>DRIVER</td><td>FRONT LEFT</td><td>KILLED</td><td>57</td><td>OTHER</td><td>MALE</td><td>NO</td><td>NONE</td><td>NOT DEPLOYED</td><td>NOT APPLICABLE</td><td>N</td><td>BLOOD</td><td>NA</td><td>NA</td><td>BLOOD</td><td>UNKNOWN</td><td>UNKNOWN</td><td>22:00:00</td><td>0</td><td>0</td><td>0</td><td>0</td><td>0</td><td>0</td><td>1</td><td>DRIVER LICENSE</td><td>Texas</td><td>CLASS C</td><td>75862</td></tr>\n",
       "<tr><td>15199245</td><td>1</td><td>1</td><td>DRIVER</td><td>FRONT LEFT</td><td>KILLED</td><td>48</td><td>HISPANIC</td><td>MALE</td><td>YES</td><td>NONE</td><td>NOT DEPLOYED</td><td>NOT APPLICABLE</td><td>N</td><td>BLOOD</td><td>Positive</td><td>0.179</td><td>NONE</td><td>NOT APPLICABLE</td><td>NOT APPLICABLE</td><td>01:23:00</td><td>0</td><td>0</td><td>0</td><td>0</td><td>0</td><td>0</td><td>1</td><td>DRIVER LICENSE</td><td>Texas</td><td>CLASS C</td><td>77074</td></tr>\n",
       "<tr><td>15204417</td><td>2</td><td>1</td><td>DRIVER</td><td>FRONT LEFT</td><td>KILLED</td><td>37</td><td>HISPANIC</td><td>MALE</td><td>NO</td><td>NONE</td><td>NOT DEPLOYED</td><td>NOT APPLICABLE</td><td>N</td><td>BLOOD</td><td>Positive</td><td>0.278</td><td>NONE</td><td>NOT APPLICABLE</td><td>NOT APPLICABLE</td><td>21:35:00</td><td>0</td><td>0</td><td>0</td><td>0</td><td>0</td><td>0</td><td>1</td><td>UNLICENSED</td><td>NA</td><td>UNLICENSED</td><td>79412</td></tr>\n",
       "<tr><td>15208571</td><td>2</td><td>1</td><td>DRIVER</td><td>FRONT LEFT</td><td>KILLED</td><td>65</td><td>WHITE</td><td>MALE</td><td>NO</td><td>SHOULDER &amp; LAP BELT</td><td>NOT DEPLOYED</td><td>NOT APPLICABLE</td><td>N</td><td>OTHER (EXPLAIN IN...</td><td>Negative</td><td>0</td><td>OTHER (EXPLAIN IN...</td><td>Positive</td><td>CNS DEPRESSANTS</td><td>16:33:00</td><td>0</td><td>0</td><td>0</td><td>0</td><td>0</td><td>0</td><td>1</td><td>COMMERCIAL DRIVER...</td><td>Texas</td><td>CLASS A AND M</td><td>75459</td></tr>\n",
       "</table>\n",
       "only showing top 20 rows\n"
      ],
      "text/plain": [
       "+--------+--------+--------+------------+------------------+-----------------+--------+-----------------+------------+------------+-------------------+--------------+--------------+-----------+---------------------+----------------+------------------+---------------------+----------------+-----------------+---------------+---------------+------------------+--------------+-------------+--------------+-------------+---------+--------------------+-----------------+---------------+--------+\n",
       "|CRASH_ID|UNIT_NBR|PRSN_NBR|PRSN_TYPE_ID|PRSN_OCCPNT_POS_ID|PRSN_INJRY_SEV_ID|PRSN_AGE|PRSN_ETHNICITY_ID|PRSN_GNDR_ID|PRSN_EJCT_ID|       PRSN_REST_ID|PRSN_AIRBAG_ID|PRSN_HELMET_ID|PRSN_SOL_FL|PRSN_ALC_SPEC_TYPE_ID|PRSN_ALC_RSLT_ID|PRSN_BAC_TEST_RSLT|PRSN_DRG_SPEC_TYPE_ID|PRSN_DRG_RSLT_ID|DRVR_DRG_CAT_1_ID|PRSN_DEATH_TIME|INCAP_INJRY_CNT|NONINCAP_INJRY_CNT|POSS_INJRY_CNT|NON_INJRY_CNT|UNKN_INJRY_CNT|TOT_INJRY_CNT|DEATH_CNT|    DRVR_LIC_TYPE_ID|DRVR_LIC_STATE_ID|DRVR_LIC_CLS_ID|DRVR_ZIP|\n",
       "+--------+--------+--------+------------+------------------+-----------------+--------+-----------------+------------+------------+-------------------+--------------+--------------+-----------+---------------------+----------------+------------------+---------------------+----------------+-----------------+---------------+---------------+------------------+--------------+-------------+--------------+-------------+---------+--------------------+-----------------+---------------+--------+\n",
       "|14848300|       2|       1|      DRIVER|        FRONT LEFT|           KILLED|      38|            WHITE|        MALE|          NO|SHOULDER & LAP BELT|  NOT DEPLOYED|NOT APPLICABLE|          N|                BLOOD|        Negative|                 0|                BLOOD|        Positive|   CNS STIMULANTS|       04:43:00|              0|                 0|             0|            0|             0|            0|        1|      DRIVER LICENSE|            Texas|        CLASS C|   76574|\n",
       "|14854567|       3|       1|      DRIVER|        FRONT LEFT|           KILLED|      77|            BLACK|        MALE|          NO|SHOULDER & LAP BELT|  NOT DEPLOYED|NOT APPLICABLE|          N|                 NONE|              NA|                NA|                 NONE|  NOT APPLICABLE|   NOT APPLICABLE|       07:32:00|              0|                 0|             0|            0|             0|            0|        1|      DRIVER LICENSE|            Texas|        CLASS C|   77412|\n",
       "|14909057|       1|       1|      DRIVER|        FRONT LEFT|           KILLED|      37|            BLACK|        MALE|         YES|               NONE|  NOT DEPLOYED|NOT APPLICABLE|          N|                BLOOD|        Positive|             0.114|                BLOOD|  NOT APPLICABLE|   NOT APPLICABLE|       01:00:00|              0|                 0|             0|            0|             0|            0|        1|          UNLICENSED|               NA|     UNLICENSED|   75683|\n",
       "|14920297|       1|       1|      DRIVER|        FRONT LEFT|           KILLED|      21|            WHITE|        MALE|         YES|               NONE|  NOT DEPLOYED|NOT APPLICABLE|          N| OTHER (EXPLAIN IN...|        Positive|             0.196| OTHER (EXPLAIN IN...|        Negative|   NOT APPLICABLE|       06:55:00|              0|                 0|             0|            0|             0|            0|        1|      DRIVER LICENSE|            Texas|        CLASS C|   77316|\n",
       "|14925518|       1|       1|      DRIVER|        FRONT LEFT|           KILLED|      30|         HISPANIC|        MALE|          NO|            UNKNOWN|  NOT DEPLOYED|NOT APPLICABLE|          N|                 NONE|              NA|                NA|                 NONE|  NOT APPLICABLE|   NOT APPLICABLE|       18:20:00|              0|                 0|             0|            0|             0|            0|        1|             ID CARD|            Texas|     UNLICENSED|   78242|\n",
       "|14932526|       2|       1|      DRIVER|        FRONT LEFT|           KILLED|      29|            WHITE|        MALE|          NO|               NONE|  NOT DEPLOYED|NOT APPLICABLE|          N|                BLOOD|        Negative|                 0|                BLOOD|        Negative|   NOT APPLICABLE|       05:56:00|              0|                 0|             0|            0|             0|            0|        1|      DRIVER LICENSE|            Texas|        CLASS C|   78121|\n",
       "|14940520|       2|       1|      DRIVER|        FRONT LEFT|           KILLED|      39|            WHITE|      FEMALE|          NO|            UNKNOWN|  NOT DEPLOYED|NOT APPLICABLE|          N|                BLOOD|        Negative|                 0|                BLOOD|        Negative|   NOT APPLICABLE|       20:10:00|              0|                 0|             0|            0|             0|            0|        1|      DRIVER LICENSE|            Texas|        CLASS C|   79106|\n",
       "|15002687|       2|       1|      DRIVER|        FRONT LEFT|           KILLED|      44|         HISPANIC|      FEMALE|         YES|               NONE|  NOT DEPLOYED|NOT APPLICABLE|          N|                 NONE|              NA|                NA|                 NONE|  NOT APPLICABLE|   NOT APPLICABLE|       20:20:00|              0|                 0|             0|            0|             0|            0|        1|      DRIVER LICENSE|            Texas|        CLASS C|   76103|\n",
       "|15005255|       2|       1|      DRIVER|        FRONT LEFT|           KILLED|      71|            BLACK|      FEMALE|          NO|SHOULDER & LAP BELT|  NOT DEPLOYED|NOT APPLICABLE|          N|                 NONE|              NA|                NA|                 NONE|  NOT APPLICABLE|   NOT APPLICABLE|       15:20:00|              0|                 0|             0|            0|             0|            0|        1|      DRIVER LICENSE|            Texas|        CLASS C|   77033|\n",
       "|15010732|       1|       1|      DRIVER|        FRONT LEFT|           KILLED|      18|         HISPANIC|        MALE|          NO|            UNKNOWN|  NOT DEPLOYED|NOT APPLICABLE|          N| OTHER (EXPLAIN IN...|              NA|                NA| OTHER (EXPLAIN IN...|         UNKNOWN|          UNKNOWN|       14:01:00|              0|                 0|             0|            0|             0|            0|        1|      DRIVER LICENSE|            Texas|        CLASS C|   78596|\n",
       "|15014078|       1|       1|      DRIVER|        FRONT LEFT|           KILLED|      42|            WHITE|        MALE|          NO|SHOULDER & LAP BELT|  NOT DEPLOYED|NOT APPLICABLE|          N|                BLOOD|        Positive|             0.256|                BLOOD|        Negative|   NOT APPLICABLE|       02:39:00|              0|                 0|             0|            0|             0|            0|        1|      DRIVER LICENSE|            Texas|        CLASS C|   77088|\n",
       "|15043627|       1|       1|      DRIVER|        FRONT LEFT|           KILLED|      20|            WHITE|        MALE|         YES|               NONE|  NOT DEPLOYED|NOT APPLICABLE|          N| OTHER (EXPLAIN IN...|              NA|                NA|                 NONE|  NOT APPLICABLE|   NOT APPLICABLE|       15:32:00|              0|                 0|             0|            0|             0|            0|        1|      DRIVER LICENSE|            Texas|        CLASS C|   77351|\n",
       "|15070158|       3|       1|      DRIVER|        FRONT LEFT|           KILLED|      57|            WHITE|        MALE|          NO|SHOULDER & LAP BELT|  NOT DEPLOYED|NOT APPLICABLE|          N|                 NONE|              NA|                NA|                 NONE|  NOT APPLICABLE|   NOT APPLICABLE|       11:06:00|              0|                 0|             0|            0|             0|            0|        1|      DRIVER LICENSE|            Texas|        CLASS C|   77627|\n",
       "|15081189|       2|       1|      DRIVER|        FRONT LEFT|           KILLED|      62|            BLACK|        MALE|YES, PARTIAL|SHOULDER & LAP BELT|  NOT DEPLOYED|NOT APPLICABLE|          N|                BLOOD|        Positive|             0.096|                BLOOD|        Negative|   NOT APPLICABLE|       02:08:00|              0|                 0|             0|            0|             0|            0|        1|      DRIVER LICENSE|            Texas|        CLASS C|   77045|\n",
       "|15114521|       3|       1|      DRIVER|        FRONT LEFT|           KILLED|      74|            WHITE|        MALE|         YES|               NONE|  NOT DEPLOYED|NOT APPLICABLE|          N|                 NONE|              NA|                NA|                 NONE|  NOT APPLICABLE|   NOT APPLICABLE|       18:05:00|              0|                 0|             0|            0|             0|            0|        1|      DRIVER LICENSE|            Texas|        CLASS A|   79088|\n",
       "|15149988|       2|       1|      DRIVER|        FRONT LEFT|           KILLED|      40|            BLACK|      FEMALE|          NO|SHOULDER & LAP BELT|  NOT DEPLOYED|NOT APPLICABLE|          N|                BLOOD|        Negative|                 0|                BLOOD|        Negative|   NOT APPLICABLE|       19:23:00|              0|                 0|             0|            0|             0|            0|        1|      DRIVER LICENSE|            Texas|        CLASS C|   77320|\n",
       "|15158717|       1|       1|      DRIVER|        FRONT LEFT|           KILLED|      57|            OTHER|        MALE|          NO|               NONE|  NOT DEPLOYED|NOT APPLICABLE|          N|                BLOOD|              NA|                NA|                BLOOD|         UNKNOWN|          UNKNOWN|       22:00:00|              0|                 0|             0|            0|             0|            0|        1|      DRIVER LICENSE|            Texas|        CLASS C|   75862|\n",
       "|15199245|       1|       1|      DRIVER|        FRONT LEFT|           KILLED|      48|         HISPANIC|        MALE|         YES|               NONE|  NOT DEPLOYED|NOT APPLICABLE|          N|                BLOOD|        Positive|             0.179|                 NONE|  NOT APPLICABLE|   NOT APPLICABLE|       01:23:00|              0|                 0|             0|            0|             0|            0|        1|      DRIVER LICENSE|            Texas|        CLASS C|   77074|\n",
       "|15204417|       2|       1|      DRIVER|        FRONT LEFT|           KILLED|      37|         HISPANIC|        MALE|          NO|               NONE|  NOT DEPLOYED|NOT APPLICABLE|          N|                BLOOD|        Positive|             0.278|                 NONE|  NOT APPLICABLE|   NOT APPLICABLE|       21:35:00|              0|                 0|             0|            0|             0|            0|        1|          UNLICENSED|               NA|     UNLICENSED|   79412|\n",
       "|15208571|       2|       1|      DRIVER|        FRONT LEFT|           KILLED|      65|            WHITE|        MALE|          NO|SHOULDER & LAP BELT|  NOT DEPLOYED|NOT APPLICABLE|          N| OTHER (EXPLAIN IN...|        Negative|                 0| OTHER (EXPLAIN IN...|        Positive|  CNS DEPRESSANTS|       16:33:00|              0|                 0|             0|            0|             0|            0|        1|COMMERCIAL DRIVER...|            Texas|  CLASS A AND M|   75459|\n",
       "+--------+--------+--------+------------+------------------+-----------------+--------+-----------------+------------+------------+-------------------+--------------+--------------+-----------+---------------------+----------------+------------------+---------------------+----------------+-----------------+---------------+---------------+------------------+--------------+-------------+--------------+-------------+---------+--------------------+-----------------+---------------+--------+\n",
       "only showing top 20 rows"
      ]
     },
     "execution_count": 72,
     "metadata": {},
     "output_type": "execute_result"
    }
   ],
   "source": [
    "df_airbags_not_deployed"
   ]
  },
  {
   "cell_type": "code",
   "execution_count": 75,
   "id": "4c0a2529",
   "metadata": {},
   "outputs": [],
   "source": [
    "df_airbags_not_deployed_crash_id = df_airbags_not_deployed.select(\"CRASH_ID\")"
   ]
  },
  {
   "cell_type": "code",
   "execution_count": null,
   "id": "feec47df",
   "metadata": {},
   "outputs": [],
   "source": []
  },
  {
   "cell_type": "code",
   "execution_count": 77,
   "id": "c74a4ddf",
   "metadata": {},
   "outputs": [],
   "source": [
    "df_units = df_units.select(\"CRASH_ID\",\"VEH_MAKE_ID\")"
   ]
  },
  {
   "cell_type": "code",
   "execution_count": 83,
   "id": "19db5d69",
   "metadata": {},
   "outputs": [],
   "source": [
    "df_units = df_units.filter(col('DEATH_CNT') == 1)"
   ]
  },
  {
   "cell_type": "code",
   "execution_count": 87,
   "id": "80b0ad23",
   "metadata": {},
   "outputs": [],
   "source": [
    "df_veh = df_airbags_not_deployed_crash_id.join(df_units,df_airbags_not_deployed_crash_id.CRASH_ID == df_units.CRASH_ID,how=\"left\")"
   ]
  },
  {
   "cell_type": "code",
   "execution_count": 98,
   "id": "0470a531",
   "metadata": {},
   "outputs": [],
   "source": [
    "grouped_df = df_veh.groupBy(\"VEH_MAKE_ID\").agg(count(\"*\").alias(\"count\")).orderBy(desc(\"count\")).limit(5)"
   ]
  },
  {
   "cell_type": "code",
   "execution_count": 99,
   "id": "40a7d738",
   "metadata": {},
   "outputs": [
    {
     "data": {
      "text/html": [
       "<table border='1'>\n",
       "<tr><th>VEH_MAKE_ID</th><th>count</th></tr>\n",
       "<tr><td>CHEVROLET</td><td>8</td></tr>\n",
       "<tr><td>NISSAN</td><td>5</td></tr>\n",
       "<tr><td>FORD</td><td>5</td></tr>\n",
       "<tr><td>HONDA</td><td>3</td></tr>\n",
       "<tr><td>DODGE</td><td>2</td></tr>\n",
       "</table>\n"
      ],
      "text/plain": [
       "+-----------+-----+\n",
       "|VEH_MAKE_ID|count|\n",
       "+-----------+-----+\n",
       "|  CHEVROLET|    8|\n",
       "|     NISSAN|    5|\n",
       "|       FORD|    5|\n",
       "|      HONDA|    3|\n",
       "|      DODGE|    2|\n",
       "+-----------+-----+"
      ]
     },
     "execution_count": 99,
     "metadata": {},
     "output_type": "execute_result"
    }
   ],
   "source": [
    "grouped_df"
   ]
  },
  {
   "cell_type": "markdown",
   "id": "cc25c5a9",
   "metadata": {},
   "source": [
    "#### Analysis 4: Determine number of Vehicles with driver having valid licences involved in hit and run? "
   ]
  },
  {
   "cell_type": "code",
   "execution_count": 15,
   "id": "41e3fc15",
   "metadata": {},
   "outputs": [],
   "source": [
    "\n",
    "df_primary_person = df_primary_person.dropna(subset=[\"DRVR_LIC_CLS_ID\"])"
   ]
  },
  {
   "cell_type": "code",
   "execution_count": 16,
   "id": "203803a6",
   "metadata": {},
   "outputs": [],
   "source": [
    "exclude_list = ['OTHER/OUT OF STATE','UNKNOWN','UNLICENSED']"
   ]
  },
  {
   "cell_type": "code",
   "execution_count": 17,
   "id": "fd0f6c9c",
   "metadata": {},
   "outputs": [],
   "source": [
    "df_primary_person_valid_license = df_primary_person.filter(~col('DRVR_LIC_CLS_ID').isin(exclude_list))"
   ]
  },
  {
   "cell_type": "code",
   "execution_count": 18,
   "id": "c8e5bd95",
   "metadata": {},
   "outputs": [],
   "source": [
    "df_units_hnr = df_units.filter(col('VEH_HNR_FL')== 'Y')"
   ]
  },
  {
   "cell_type": "code",
   "execution_count": 19,
   "id": "3c7c827a",
   "metadata": {},
   "outputs": [],
   "source": [
    "df_hnr_crash_id  = df_units_hnr.select('CRASH_ID').dropDuplicates(subset=[\"CRASH_ID\"])"
   ]
  },
  {
   "cell_type": "code",
   "execution_count": 20,
   "id": "0d526ca3",
   "metadata": {},
   "outputs": [],
   "source": [
    "df_valid_lic_hnr= df_primary_person_valid_license.join(df_hnr_crash_id,df_primary_person_valid_license.CRASH_ID==df_hnr_crash_id.CRASH_ID,how='leftsemi')"
   ]
  },
  {
   "cell_type": "code",
   "execution_count": 26,
   "id": "5a69cc61",
   "metadata": {},
   "outputs": [
    {
     "data": {
      "text/html": [
       "<table border='1'>\n",
       "<tr><th>count</th></tr>\n",
       "<tr><td>4918</td></tr>\n",
       "</table>\n"
      ],
      "text/plain": [
       "+-----+\n",
       "|count|\n",
       "+-----+\n",
       "| 4918|\n",
       "+-----+"
      ]
     },
     "execution_count": 26,
     "metadata": {},
     "output_type": "execute_result"
    }
   ],
   "source": [
    "df_valid_lic_hnr.agg(count('CRASH_ID').alias('count'))"
   ]
  },
  {
   "cell_type": "code",
   "execution_count": 21,
   "id": "be41997b",
   "metadata": {},
   "outputs": [],
   "source": [
    "row_count = df_valid_lic_hnr.count()"
   ]
  },
  {
   "cell_type": "code",
   "execution_count": 22,
   "id": "55f57225",
   "metadata": {},
   "outputs": [
    {
     "data": {
      "text/plain": [
       "4918"
      ]
     },
     "execution_count": 22,
     "metadata": {},
     "output_type": "execute_result"
    }
   ],
   "source": [
    "row_count"
   ]
  },
  {
   "cell_type": "code",
   "execution_count": 151,
   "id": "7e561952",
   "metadata": {},
   "outputs": [
    {
     "name": "stdout",
     "output_type": "stream",
     "text": [
      "+-----+\n",
      "|count|\n",
      "+-----+\n",
      "| 4918|\n",
      "+-----+\n",
      "\n"
     ]
    }
   ],
   "source": [
    "count_df = spark.createDataFrame([(row_count,)], [\"count\"])\n",
    "\n",
    "# Show the new DataFrame\n",
    "count_df.show()"
   ]
  },
  {
   "cell_type": "code",
   "execution_count": 128,
   "id": "2593356e",
   "metadata": {},
   "outputs": [
    {
     "data": {
      "text/plain": [
       "156954"
      ]
     },
     "execution_count": 128,
     "metadata": {},
     "output_type": "execute_result"
    }
   ],
   "source": [
    "df_primary_person"
   ]
  },
  {
   "cell_type": "markdown",
   "id": "8b578636",
   "metadata": {},
   "source": [
    "#### Analysis 5: Which state has highest number of accidents in which females are not involved? "
   ]
  },
  {
   "cell_type": "code",
   "execution_count": 15,
   "id": "86578889",
   "metadata": {},
   "outputs": [],
   "source": [
    "df_females_not_involed = df_primary_person.filter(col('PRSN_GNDR_ID') != \"FEMALE\").groupBy(\"DRVR_LIC_STATE_ID\").agg(count(\"*\").alias(\"count\")).orderBy(desc(\"count\")).limit(1)"
   ]
  },
  {
   "cell_type": "code",
   "execution_count": null,
   "id": "58990d3c",
   "metadata": {},
   "outputs": [],
   "source": []
  },
  {
   "cell_type": "code",
   "execution_count": null,
   "id": "937879e4",
   "metadata": {},
   "outputs": [],
   "source": []
  },
  {
   "cell_type": "code",
   "execution_count": null,
   "id": "b1de6468",
   "metadata": {},
   "outputs": [],
   "source": []
  },
  {
   "cell_type": "markdown",
   "id": "95b958f7",
   "metadata": {},
   "source": [
    "#### Analysis 6: Which are the Top 3rd to 5th VEH_MAKE_IDs that contribute to a largest number of injuries including death"
   ]
  },
  {
   "cell_type": "code",
   "execution_count": 16,
   "id": "c1aba80e",
   "metadata": {},
   "outputs": [
    {
     "data": {
      "text/html": [
       "<table border='1'>\n",
       "<tr><th>CRASH_ID</th><th>UNIT_NBR</th><th>UNIT_DESC_ID</th><th>VEH_PARKED_FL</th><th>VEH_HNR_FL</th><th>VEH_LIC_STATE_ID</th><th>VIN</th><th>VEH_MOD_YEAR</th><th>VEH_COLOR_ID</th><th>VEH_MAKE_ID</th><th>VEH_MOD_ID</th><th>VEH_BODY_STYL_ID</th><th>EMER_RESPNDR_FL</th><th>OWNR_ZIP</th><th>FIN_RESP_PROOF_ID</th><th>FIN_RESP_TYPE_ID</th><th>VEH_DMAG_AREA_1_ID</th><th>VEH_DMAG_SCL_1_ID</th><th>FORCE_DIR_1_ID</th><th>VEH_DMAG_AREA_2_ID</th><th>VEH_DMAG_SCL_2_ID</th><th>FORCE_DIR_2_ID</th><th>VEH_INVENTORIED_FL</th><th>VEH_TRANSP_NAME</th><th>VEH_TRANSP_DEST</th><th>CONTRIB_FACTR_1_ID</th><th>CONTRIB_FACTR_2_ID</th><th>CONTRIB_FACTR_P1_ID</th><th>VEH_TRVL_DIR_ID</th><th>FIRST_HARM_EVT_INV_ID</th><th>INCAP_INJRY_CNT</th><th>NONINCAP_INJRY_CNT</th><th>POSS_INJRY_CNT</th><th>NON_INJRY_CNT</th><th>UNKN_INJRY_CNT</th><th>TOT_INJRY_CNT</th><th>DEATH_CNT</th></tr>\n",
       "<tr><td>14768622</td><td>1</td><td>MOTOR VEHICLE</td><td>N</td><td>N</td><td>TX</td><td>4S2CK57D1X4381118</td><td>1999</td><td>GRY</td><td>ISUZU</td><td>AMIGO</td><td>PASSENGER CAR, 4-...</td><td>Y</td><td>77357</td><td>2</td><td>NA</td><td>FRONT END DAMAGE ...</td><td>DAMAGED 3</td><td>1</td><td>LEFT SIDE AND TOP...</td><td>DAMAGED 4</td><td>3</td><td>Y</td><td>VALENTIN TOWING</td><td>20288 FM 1314 POR...</td><td>UNDER INFLUENCE -...</td><td>NA</td><td>NA</td><td>EAST</td><td>Y</td><td>0</td><td>0</td><td>0</td><td>1</td><td>0</td><td>0</td><td>0</td></tr>\n",
       "<tr><td>14838637</td><td>1</td><td>MOTOR VEHICLE</td><td>N</td><td>N</td><td>TX</td><td>WVWAN7AN6DE536582</td><td>NA</td><td>GRY</td><td>VOLKSWAGEN</td><td>CC</td><td>PASSENGER CAR, 4-...</td><td>N</td><td>13830</td><td>1</td><td>PROOF OF LIABILIT...</td><td>FRONT END DAMAGE ...</td><td>DAMAGED 3</td><td>12</td><td>NA</td><td>NA</td><td>NA</td><td>N</td><td>A-1 TOWING</td><td>4710 ELLEN TROUT</td><td>HAD BEEN DRINKING</td><td>NA</td><td>NA</td><td>SOUTH</td><td>Y</td><td>0</td><td>0</td><td>0</td><td>1</td><td>0</td><td>0</td><td>0</td></tr>\n",
       "<tr><td>14838637</td><td>2</td><td>MOTOR VEHICLE</td><td>N</td><td>N</td><td>TX</td><td>1FUJA6CG24LM14889</td><td>2004</td><td>RED</td><td>FREIGHTLINER</td><td>NA</td><td>TRUCK</td><td>N</td><td>78934</td><td>1</td><td>PROOF OF LIABILIT...</td><td>RIGHT SIDE DAMAGE...</td><td>DAMAGED 2</td><td>3</td><td>NA</td><td>NA</td><td>NA</td><td>N</td><td>DRIVEN AWAY</td><td>BY DRIVER</td><td>NONE</td><td>NA</td><td>NA</td><td>SOUTH</td><td>Y</td><td>0</td><td>0</td><td>0</td><td>1</td><td>0</td><td>0</td><td>0</td></tr>\n",
       "<tr><td>14838637</td><td>2</td><td>MOTOR VEHICLE</td><td>N</td><td>N</td><td>TX</td><td>1FUJA6CG24LM14889</td><td>2004</td><td>RED</td><td>FREIGHTLINER</td><td>NA</td><td>TRUCK</td><td>N</td><td>78934</td><td>1</td><td>PROOF OF LIABILIT...</td><td>RIGHT SIDE DAMAGE...</td><td>DAMAGED 2</td><td>3</td><td>NA</td><td>NA</td><td>NA</td><td>N</td><td>DRIVEN AWAY</td><td>BY DRIVER</td><td>NONE</td><td>NA</td><td>NA</td><td>SOUTH</td><td>Y</td><td>0</td><td>0</td><td>0</td><td>1</td><td>0</td><td>0</td><td>0</td></tr>\n",
       "<tr><td>14838637</td><td>3</td><td>TOWED/TRAILER</td><td>null</td><td>null</td><td>NA</td><td>null</td><td>NA</td><td>NA</td><td>NA</td><td>NA</td><td>NA</td><td>null</td><td>78934</td><td>NA</td><td>NA</td><td>NA</td><td>NA</td><td>NA</td><td>NA</td><td>NA</td><td>NA</td><td>null</td><td>null</td><td>null</td><td>NONE</td><td>NA</td><td>NA</td><td>NOT APPLICABLE</td><td>N</td><td>0</td><td>0</td><td>0</td><td>0</td><td>0</td><td>0</td><td>0</td></tr>\n",
       "<tr><td>14838641</td><td>1</td><td>MOTOR VEHICLE</td><td>N</td><td>N</td><td>TX</td><td>JHMFA15896S005043</td><td>2006</td><td>GRY</td><td>HONDA</td><td>CIVIC</td><td>PASSENGER CAR, 4-...</td><td>N</td><td>76520</td><td>1</td><td>PROOF OF LIABILIT...</td><td>FRONT END (RIGHT)...</td><td>DAMAGED 3</td><td>1</td><td>NA</td><td>NA</td><td>NA</td><td>N</td><td>TOW KING</td><td>7191 BAGBY</td><td>DISREGARD STOP AN...</td><td>DRIVER INATTENTION</td><td>NA</td><td>NORTHWEST</td><td>Y</td><td>0</td><td>0</td><td>1</td><td>0</td><td>0</td><td>1</td><td>0</td></tr>\n",
       "<tr><td>14838641</td><td>2</td><td>MOTOR VEHICLE</td><td>N</td><td>N</td><td>TX</td><td>1GNEC13R8YR146867</td><td>2000</td><td>BLK</td><td>CHEVROLET</td><td>TAHOE</td><td>SPORT UTILITY VEH...</td><td>N</td><td>76707</td><td>1</td><td>PROOF OF LIABILIT...</td><td>LEFT SIDE AND TOP...</td><td>DAMAGED 3</td><td>9</td><td>NA</td><td>NA</td><td>NA</td><td>N</td><td>TOW KING</td><td>7191 BAGBY</td><td>NONE</td><td>NA</td><td>NA</td><td>SOUTHWEST</td><td>Y</td><td>0</td><td>1</td><td>0</td><td>0</td><td>0</td><td>1</td><td>0</td></tr>\n",
       "<tr><td>14838668</td><td>1</td><td>MOTOR VEHICLE</td><td>N</td><td>N</td><td>TX</td><td>JM1BK32F791214223</td><td>NA</td><td>BLK</td><td>MAZDA</td><td>NA</td><td>PASSENGER CAR, 4-...</td><td>N</td><td>78076</td><td>2</td><td>NA</td><td>FRONT END DAMAGE ...</td><td>DAMAGED 4</td><td>12</td><td>NA</td><td>NA</td><td>NA</td><td>Y</td><td>GARCIA&#x27;S TOWING</td><td>203 2ND ST, ZAPAT...</td><td>UNDER INFLUENCE -...</td><td>FAILED TO DRIVE I...</td><td>NA</td><td>NORTHWEST</td><td>Y</td><td>0</td><td>0</td><td>0</td><td>1</td><td>0</td><td>0</td><td>0</td></tr>\n",
       "<tr><td>14838669</td><td>1</td><td>MOTOR VEHICLE</td><td>N</td><td>N</td><td>TX</td><td>1GCEC14X89Z178483</td><td>NA</td><td>WHI</td><td>CHEVROLET</td><td>SILVERADO C1500</td><td>PICKUP</td><td>N</td><td>76053</td><td>1</td><td>LIABILITY INSURAN...</td><td>BACK END DAMAGE D...</td><td>DAMAGED 2</td><td>6</td><td>NA</td><td>NA</td><td>NA</td><td>N</td><td>DRIVEN AWAY</td><td>BY DRIVER</td><td>NONE</td><td>NA</td><td>NA</td><td>WEST</td><td>Y</td><td>0</td><td>0</td><td>0</td><td>1</td><td>0</td><td>0</td><td>0</td></tr>\n",
       "<tr><td>14838669</td><td>2</td><td>MOTOR VEHICLE</td><td>N</td><td>N</td><td>TX</td><td>JM1BL1SF9A1147727</td><td>NA</td><td>BLK</td><td>MAZDA</td><td>NA</td><td>PASSENGER CAR, 4-...</td><td>N</td><td>76118</td><td>1</td><td>LIABILITY INSURAN...</td><td>FRONT END DAMAGE ...</td><td>DAMAGED 3</td><td>12</td><td>NA</td><td>NA</td><td>NA</td><td>Y</td><td>EULESS B &amp; B WREC...</td><td>1201 W EULESS BLV...</td><td>FAILED TO CONTROL...</td><td>UNDER INFLUENCE -...</td><td>NA</td><td>WEST</td><td>Y</td><td>0</td><td>0</td><td>0</td><td>1</td><td>0</td><td>0</td><td>0</td></tr>\n",
       "<tr><td>14838670</td><td>1</td><td>MOTOR VEHICLE</td><td>N</td><td>N</td><td>TX</td><td>1J4GL58K53W701914</td><td>2003</td><td>SIL</td><td>JEEP</td><td>LIBERTY</td><td>SPORT UTILITY VEH...</td><td>N</td><td>75050</td><td>1</td><td>PROOF OF LIABILIT...</td><td>FRONT END (RIGHT)...</td><td>DAMAGED 1 MINIMUM</td><td>12</td><td>FRONT END (LEFT) ...</td><td>DAMAGED 2</td><td>12</td><td>Y</td><td>EULESS B &amp; B WREC...</td><td>1201 W EULESS BLV...</td><td>HAD BEEN DRINKING</td><td>NA</td><td>NA</td><td>EAST</td><td>Y</td><td>0</td><td>0</td><td>0</td><td>1</td><td>0</td><td>0</td><td>0</td></tr>\n",
       "<tr><td>14838670</td><td>2</td><td>MOTOR VEHICLE</td><td>Y</td><td>N</td><td>TX</td><td>JS2RA61S045207476</td><td>2004</td><td>GLD</td><td>SUZUKI</td><td>AERIO</td><td>PASSENGER CAR, 4-...</td><td>N</td><td>76040</td><td>1</td><td>PROOF OF LIABILIT...</td><td>BACK END (LEFT) D...</td><td>DAMAGED 2</td><td>6</td><td>NA</td><td>NA</td><td>NA</td><td>N</td><td>REMAINED PARKED</td><td>BY OWNER</td><td>NONE</td><td>NA</td><td>NA</td><td>EAST</td><td>Y</td><td>0</td><td>0</td><td>0</td><td>0</td><td>0</td><td>0</td><td>0</td></tr>\n",
       "<tr><td>14838670</td><td>3</td><td>MOTOR VEHICLE</td><td>Y</td><td>N</td><td>TX</td><td>1FTEW1CM3CFC20128</td><td>NA</td><td>GRY</td><td>FORD</td><td>F150</td><td>PICKUP</td><td>N</td><td>76180</td><td>1</td><td>PROOF OF LIABILIT...</td><td>LEFT BACK QUARTER...</td><td>DAMAGED 2</td><td>11</td><td>NA</td><td>NA</td><td>NA</td><td>N</td><td>REMAINED PARKED</td><td>BY OWNER</td><td>NONE</td><td>NA</td><td>NA</td><td>WEST</td><td>N</td><td>0</td><td>0</td><td>0</td><td>0</td><td>0</td><td>0</td><td>0</td></tr>\n",
       "<tr><td>14838685</td><td>1</td><td>MOTOR VEHICLE</td><td>N</td><td>N</td><td>TX</td><td>1HGCG16522A035476</td><td>2002</td><td>RED</td><td>HONDA</td><td>ACCORD</td><td>PASSENGER CAR, 4-...</td><td>N</td><td>77084</td><td>2</td><td>NA</td><td>FRONT END DAMAGE ...</td><td>DAMAGED 3</td><td>12</td><td>TOP DAMAGE ONLY</td><td>NO DAMAGE</td><td>NA</td><td>N</td><td>CHALLENGER</td><td>8000 GALVESTON RD</td><td>FAILED TO DRIVE I...</td><td>NA</td><td>NA</td><td>SOUTHWEST</td><td>Y</td><td>0</td><td>0</td><td>0</td><td>1</td><td>0</td><td>0</td><td>0</td></tr>\n",
       "<tr><td>14838693</td><td>1</td><td>MOTOR VEHICLE</td><td>N</td><td>N</td><td>TX</td><td>1GCJC33U24F229732</td><td>2004</td><td>WHI</td><td>CHEVROLET</td><td>SILVERADO C3500</td><td>PICKUP</td><td>N</td><td>78564</td><td>1</td><td>PROOF OF LIABILIT...</td><td>LEFT SIDE DAMAGE ...</td><td>DAMAGED 1 MINIMUM</td><td>11</td><td>RIGHT SIDE DAMAGE...</td><td>DAMAGED 1 MINIMUM</td><td>1</td><td>Y</td><td>GARCIA&#x27;S TOWING</td><td>203 2ND,  ZAPATA,...</td><td>UNDER INFLUENCE -...</td><td>FAILED TO DRIVE I...</td><td>DISABLED IN TRAFF...</td><td>NORTHWEST</td><td>Y</td><td>0</td><td>0</td><td>0</td><td>1</td><td>0</td><td>0</td><td>0</td></tr>\n",
       "<tr><td>14838768</td><td>1</td><td>MOTOR VEHICLE</td><td>N</td><td>N</td><td>CA</td><td>2HNYD18814H543053</td><td>2004</td><td>SIL</td><td>ACURA</td><td>MDX</td><td>SPORT UTILITY VEH...</td><td>N</td><td>77090</td><td>1</td><td>PROOF OF LIABILIT...</td><td>FRONT END (RIGHT)...</td><td>DAMAGED 4</td><td>2</td><td>NA</td><td>NA</td><td>NA</td><td>Y</td><td>AJ TOWING</td><td>8288 VETERANS MEM...</td><td>NONE</td><td>NA</td><td>NA</td><td>EAST</td><td>Y</td><td>0</td><td>0</td><td>1</td><td>1</td><td>0</td><td>1</td><td>0</td></tr>\n",
       "<tr><td>14838768</td><td>2</td><td>MOTOR VEHICLE</td><td>N</td><td>N</td><td>TX</td><td>4T1BE46K97U049772</td><td>2007</td><td>SIL</td><td>TOYOTA</td><td>CAMRY</td><td>PASSENGER CAR, 4-...</td><td>N</td><td>77080</td><td>2</td><td>NA</td><td>DISTRIBUTED RIGHT...</td><td>DAMAGED 6</td><td>3</td><td>NA</td><td>NA</td><td>NA</td><td>N</td><td>SAFECLEAR</td><td>36 TIDWELL</td><td>DISREGARD STOP AN...</td><td>HAD BEEN DRINKING</td><td>NA</td><td>SOUTH</td><td>Y</td><td>0</td><td>0</td><td>0</td><td>1</td><td>0</td><td>0</td><td>0</td></tr>\n",
       "<tr><td>14838834</td><td>1</td><td>MOTOR VEHICLE</td><td>N</td><td>Y</td><td>TX</td><td>5TFJV52167X002099</td><td>2007</td><td>99</td><td>TOYOTA</td><td>TUNDRA</td><td>PICKUP</td><td>N</td><td>79107</td><td>1</td><td>LIABILITY INSURAN...</td><td>FRONT END DAMAGE ...</td><td>DAMAGED 4</td><td>12</td><td>FRONT END DAMAGE ...</td><td>DAMAGED 2</td><td>1</td><td>Y</td><td>COMPETITION TOWING</td><td>8409 I40 E, AMA, ...</td><td>FAILED TO CONTROL...</td><td>NA</td><td>NA</td><td>SOUTH</td><td>Y</td><td>0</td><td>0</td><td>0</td><td>1</td><td>0</td><td>0</td><td>0</td></tr>\n",
       "<tr><td>14838834</td><td>2</td><td>MOTOR VEHICLE</td><td>Y</td><td>N</td><td>TX</td><td>1D8GU28K07W640397</td><td>2007</td><td>SIL</td><td>DODGE</td><td>NITRO</td><td>SPORT UTILITY VEH...</td><td>N</td><td>79107</td><td>2</td><td>NA</td><td>BACK END DAMAGE D...</td><td>DAMAGED 4</td><td>6</td><td>RIGHT BACK QUARTE...</td><td>DAMAGED 2</td><td>4</td><td>N</td><td>null</td><td>null</td><td>NONE</td><td>NA</td><td>NA</td><td>EAST</td><td>Y</td><td>0</td><td>0</td><td>0</td><td>0</td><td>0</td><td>0</td><td>0</td></tr>\n",
       "<tr><td>14838834</td><td>3</td><td>MOTOR VEHICLE</td><td>Y</td><td>N</td><td>TX</td><td>1MELM62W9SH630933</td><td>1995</td><td>GRN</td><td>MERCURY</td><td>COUGAR</td><td>PASSENGER CAR, 2-...</td><td>N</td><td>79107</td><td>2</td><td>NA</td><td>RIGHT BACK QUARTE...</td><td>DAMAGED 3</td><td>4</td><td>LEFT BACK QUARTER...</td><td>DAMAGED 1 MINIMUM</td><td>8</td><td>N</td><td>null</td><td>null</td><td>NONE</td><td>NA</td><td>NA</td><td>EAST</td><td>N</td><td>0</td><td>0</td><td>0</td><td>0</td><td>0</td><td>0</td><td>0</td></tr>\n",
       "</table>\n",
       "only showing top 20 rows\n"
      ],
      "text/plain": [
       "+--------+--------+-------------+-------------+----------+----------------+-----------------+------------+------------+------------+---------------+--------------------+---------------+--------+-----------------+--------------------+--------------------+-----------------+--------------+--------------------+-----------------+--------------+------------------+--------------------+--------------------+--------------------+--------------------+--------------------+---------------+---------------------+---------------+------------------+--------------+-------------+--------------+-------------+---------+\n",
       "|CRASH_ID|UNIT_NBR| UNIT_DESC_ID|VEH_PARKED_FL|VEH_HNR_FL|VEH_LIC_STATE_ID|              VIN|VEH_MOD_YEAR|VEH_COLOR_ID| VEH_MAKE_ID|     VEH_MOD_ID|    VEH_BODY_STYL_ID|EMER_RESPNDR_FL|OWNR_ZIP|FIN_RESP_PROOF_ID|    FIN_RESP_TYPE_ID|  VEH_DMAG_AREA_1_ID|VEH_DMAG_SCL_1_ID|FORCE_DIR_1_ID|  VEH_DMAG_AREA_2_ID|VEH_DMAG_SCL_2_ID|FORCE_DIR_2_ID|VEH_INVENTORIED_FL|     VEH_TRANSP_NAME|     VEH_TRANSP_DEST|  CONTRIB_FACTR_1_ID|  CONTRIB_FACTR_2_ID| CONTRIB_FACTR_P1_ID|VEH_TRVL_DIR_ID|FIRST_HARM_EVT_INV_ID|INCAP_INJRY_CNT|NONINCAP_INJRY_CNT|POSS_INJRY_CNT|NON_INJRY_CNT|UNKN_INJRY_CNT|TOT_INJRY_CNT|DEATH_CNT|\n",
       "+--------+--------+-------------+-------------+----------+----------------+-----------------+------------+------------+------------+---------------+--------------------+---------------+--------+-----------------+--------------------+--------------------+-----------------+--------------+--------------------+-----------------+--------------+------------------+--------------------+--------------------+--------------------+--------------------+--------------------+---------------+---------------------+---------------+------------------+--------------+-------------+--------------+-------------+---------+\n",
       "|14768622|       1|MOTOR VEHICLE|            N|         N|              TX|4S2CK57D1X4381118|        1999|         GRY|       ISUZU|          AMIGO|PASSENGER CAR, 4-...|              Y|   77357|                2|                  NA|FRONT END DAMAGE ...|        DAMAGED 3|             1|LEFT SIDE AND TOP...|        DAMAGED 4|             3|                 Y|     VALENTIN TOWING|20288 FM 1314 POR...|UNDER INFLUENCE -...|                  NA|                  NA|           EAST|                    Y|              0|                 0|             0|            1|             0|            0|        0|\n",
       "|14838637|       1|MOTOR VEHICLE|            N|         N|              TX|WVWAN7AN6DE536582|          NA|         GRY|  VOLKSWAGEN|             CC|PASSENGER CAR, 4-...|              N|   13830|                1|PROOF OF LIABILIT...|FRONT END DAMAGE ...|        DAMAGED 3|            12|                  NA|               NA|            NA|                 N|          A-1 TOWING|    4710 ELLEN TROUT|   HAD BEEN DRINKING|                  NA|                  NA|          SOUTH|                    Y|              0|                 0|             0|            1|             0|            0|        0|\n",
       "|14838637|       2|MOTOR VEHICLE|            N|         N|              TX|1FUJA6CG24LM14889|        2004|         RED|FREIGHTLINER|             NA|               TRUCK|              N|   78934|                1|PROOF OF LIABILIT...|RIGHT SIDE DAMAGE...|        DAMAGED 2|             3|                  NA|               NA|            NA|                 N|         DRIVEN AWAY|           BY DRIVER|                NONE|                  NA|                  NA|          SOUTH|                    Y|              0|                 0|             0|            1|             0|            0|        0|\n",
       "|14838637|       2|MOTOR VEHICLE|            N|         N|              TX|1FUJA6CG24LM14889|        2004|         RED|FREIGHTLINER|             NA|               TRUCK|              N|   78934|                1|PROOF OF LIABILIT...|RIGHT SIDE DAMAGE...|        DAMAGED 2|             3|                  NA|               NA|            NA|                 N|         DRIVEN AWAY|           BY DRIVER|                NONE|                  NA|                  NA|          SOUTH|                    Y|              0|                 0|             0|            1|             0|            0|        0|\n",
       "|14838637|       3|TOWED/TRAILER|         null|      null|              NA|             null|          NA|          NA|          NA|             NA|                  NA|           null|   78934|               NA|                  NA|                  NA|               NA|            NA|                  NA|               NA|            NA|              null|                null|                null|                NONE|                  NA|                  NA| NOT APPLICABLE|                    N|              0|                 0|             0|            0|             0|            0|        0|\n",
       "|14838641|       1|MOTOR VEHICLE|            N|         N|              TX|JHMFA15896S005043|        2006|         GRY|       HONDA|          CIVIC|PASSENGER CAR, 4-...|              N|   76520|                1|PROOF OF LIABILIT...|FRONT END (RIGHT)...|        DAMAGED 3|             1|                  NA|               NA|            NA|                 N|            TOW KING|          7191 BAGBY|DISREGARD STOP AN...|  DRIVER INATTENTION|                  NA|      NORTHWEST|                    Y|              0|                 0|             1|            0|             0|            1|        0|\n",
       "|14838641|       2|MOTOR VEHICLE|            N|         N|              TX|1GNEC13R8YR146867|        2000|         BLK|   CHEVROLET|          TAHOE|SPORT UTILITY VEH...|              N|   76707|                1|PROOF OF LIABILIT...|LEFT SIDE AND TOP...|        DAMAGED 3|             9|                  NA|               NA|            NA|                 N|            TOW KING|          7191 BAGBY|                NONE|                  NA|                  NA|      SOUTHWEST|                    Y|              0|                 1|             0|            0|             0|            1|        0|\n",
       "|14838668|       1|MOTOR VEHICLE|            N|         N|              TX|JM1BK32F791214223|          NA|         BLK|       MAZDA|             NA|PASSENGER CAR, 4-...|              N|   78076|                2|                  NA|FRONT END DAMAGE ...|        DAMAGED 4|            12|                  NA|               NA|            NA|                 Y|     GARCIA'S TOWING|203 2ND ST, ZAPAT...|UNDER INFLUENCE -...|FAILED TO DRIVE I...|                  NA|      NORTHWEST|                    Y|              0|                 0|             0|            1|             0|            0|        0|\n",
       "|14838669|       1|MOTOR VEHICLE|            N|         N|              TX|1GCEC14X89Z178483|          NA|         WHI|   CHEVROLET|SILVERADO C1500|              PICKUP|              N|   76053|                1|LIABILITY INSURAN...|BACK END DAMAGE D...|        DAMAGED 2|             6|                  NA|               NA|            NA|                 N|         DRIVEN AWAY|           BY DRIVER|                NONE|                  NA|                  NA|           WEST|                    Y|              0|                 0|             0|            1|             0|            0|        0|\n",
       "|14838669|       2|MOTOR VEHICLE|            N|         N|              TX|JM1BL1SF9A1147727|          NA|         BLK|       MAZDA|             NA|PASSENGER CAR, 4-...|              N|   76118|                1|LIABILITY INSURAN...|FRONT END DAMAGE ...|        DAMAGED 3|            12|                  NA|               NA|            NA|                 Y|EULESS B & B WREC...|1201 W EULESS BLV...|FAILED TO CONTROL...|UNDER INFLUENCE -...|                  NA|           WEST|                    Y|              0|                 0|             0|            1|             0|            0|        0|\n",
       "|14838670|       1|MOTOR VEHICLE|            N|         N|              TX|1J4GL58K53W701914|        2003|         SIL|        JEEP|        LIBERTY|SPORT UTILITY VEH...|              N|   75050|                1|PROOF OF LIABILIT...|FRONT END (RIGHT)...|DAMAGED 1 MINIMUM|            12|FRONT END (LEFT) ...|        DAMAGED 2|            12|                 Y|EULESS B & B WREC...|1201 W EULESS BLV...|   HAD BEEN DRINKING|                  NA|                  NA|           EAST|                    Y|              0|                 0|             0|            1|             0|            0|        0|\n",
       "|14838670|       2|MOTOR VEHICLE|            Y|         N|              TX|JS2RA61S045207476|        2004|         GLD|      SUZUKI|          AERIO|PASSENGER CAR, 4-...|              N|   76040|                1|PROOF OF LIABILIT...|BACK END (LEFT) D...|        DAMAGED 2|             6|                  NA|               NA|            NA|                 N|     REMAINED PARKED|            BY OWNER|                NONE|                  NA|                  NA|           EAST|                    Y|              0|                 0|             0|            0|             0|            0|        0|\n",
       "|14838670|       3|MOTOR VEHICLE|            Y|         N|              TX|1FTEW1CM3CFC20128|          NA|         GRY|        FORD|           F150|              PICKUP|              N|   76180|                1|PROOF OF LIABILIT...|LEFT BACK QUARTER...|        DAMAGED 2|            11|                  NA|               NA|            NA|                 N|     REMAINED PARKED|            BY OWNER|                NONE|                  NA|                  NA|           WEST|                    N|              0|                 0|             0|            0|             0|            0|        0|\n",
       "|14838685|       1|MOTOR VEHICLE|            N|         N|              TX|1HGCG16522A035476|        2002|         RED|       HONDA|         ACCORD|PASSENGER CAR, 4-...|              N|   77084|                2|                  NA|FRONT END DAMAGE ...|        DAMAGED 3|            12|     TOP DAMAGE ONLY|        NO DAMAGE|            NA|                 N|          CHALLENGER|   8000 GALVESTON RD|FAILED TO DRIVE I...|                  NA|                  NA|      SOUTHWEST|                    Y|              0|                 0|             0|            1|             0|            0|        0|\n",
       "|14838693|       1|MOTOR VEHICLE|            N|         N|              TX|1GCJC33U24F229732|        2004|         WHI|   CHEVROLET|SILVERADO C3500|              PICKUP|              N|   78564|                1|PROOF OF LIABILIT...|LEFT SIDE DAMAGE ...|DAMAGED 1 MINIMUM|            11|RIGHT SIDE DAMAGE...|DAMAGED 1 MINIMUM|             1|                 Y|     GARCIA'S TOWING|203 2ND,  ZAPATA,...|UNDER INFLUENCE -...|FAILED TO DRIVE I...|DISABLED IN TRAFF...|      NORTHWEST|                    Y|              0|                 0|             0|            1|             0|            0|        0|\n",
       "|14838768|       1|MOTOR VEHICLE|            N|         N|              CA|2HNYD18814H543053|        2004|         SIL|       ACURA|            MDX|SPORT UTILITY VEH...|              N|   77090|                1|PROOF OF LIABILIT...|FRONT END (RIGHT)...|        DAMAGED 4|             2|                  NA|               NA|            NA|                 Y|           AJ TOWING|8288 VETERANS MEM...|                NONE|                  NA|                  NA|           EAST|                    Y|              0|                 0|             1|            1|             0|            1|        0|\n",
       "|14838768|       2|MOTOR VEHICLE|            N|         N|              TX|4T1BE46K97U049772|        2007|         SIL|      TOYOTA|          CAMRY|PASSENGER CAR, 4-...|              N|   77080|                2|                  NA|DISTRIBUTED RIGHT...|        DAMAGED 6|             3|                  NA|               NA|            NA|                 N|           SAFECLEAR|          36 TIDWELL|DISREGARD STOP AN...|   HAD BEEN DRINKING|                  NA|          SOUTH|                    Y|              0|                 0|             0|            1|             0|            0|        0|\n",
       "|14838834|       1|MOTOR VEHICLE|            N|         Y|              TX|5TFJV52167X002099|        2007|          99|      TOYOTA|         TUNDRA|              PICKUP|              N|   79107|                1|LIABILITY INSURAN...|FRONT END DAMAGE ...|        DAMAGED 4|            12|FRONT END DAMAGE ...|        DAMAGED 2|             1|                 Y|  COMPETITION TOWING|8409 I40 E, AMA, ...|FAILED TO CONTROL...|                  NA|                  NA|          SOUTH|                    Y|              0|                 0|             0|            1|             0|            0|        0|\n",
       "|14838834|       2|MOTOR VEHICLE|            Y|         N|              TX|1D8GU28K07W640397|        2007|         SIL|       DODGE|          NITRO|SPORT UTILITY VEH...|              N|   79107|                2|                  NA|BACK END DAMAGE D...|        DAMAGED 4|             6|RIGHT BACK QUARTE...|        DAMAGED 2|             4|                 N|                null|                null|                NONE|                  NA|                  NA|           EAST|                    Y|              0|                 0|             0|            0|             0|            0|        0|\n",
       "|14838834|       3|MOTOR VEHICLE|            Y|         N|              TX|1MELM62W9SH630933|        1995|         GRN|     MERCURY|         COUGAR|PASSENGER CAR, 2-...|              N|   79107|                2|                  NA|RIGHT BACK QUARTE...|        DAMAGED 3|             4|LEFT BACK QUARTER...|DAMAGED 1 MINIMUM|             8|                 N|                null|                null|                NONE|                  NA|                  NA|           EAST|                    N|              0|                 0|             0|            0|             0|            0|        0|\n",
       "+--------+--------+-------------+-------------+----------+----------------+-----------------+------------+------------+------------+---------------+--------------------+---------------+--------+-----------------+--------------------+--------------------+-----------------+--------------+--------------------+-----------------+--------------+------------------+--------------------+--------------------+--------------------+--------------------+--------------------+---------------+---------------------+---------------+------------------+--------------+-------------+--------------+-------------+---------+\n",
       "only showing top 20 rows"
      ]
     },
     "execution_count": 16,
     "metadata": {},
     "output_type": "execute_result"
    }
   ],
   "source": [
    "df_units"
   ]
  },
  {
   "cell_type": "code",
   "execution_count": 21,
   "id": "ab914ebd",
   "metadata": {},
   "outputs": [],
   "source": [
    "df_top_5_injury_count = df_units.groupBy(\"VEH_MAKE_ID\").agg(sum(\"TOT_INJRY_CNT\").alias(\"Total_injury_count\")).orderBy(desc(\"Total_injury_count\")).limit(5)"
   ]
  },
  {
   "cell_type": "code",
   "execution_count": 22,
   "id": "99b2f9b2",
   "metadata": {},
   "outputs": [
    {
     "data": {
      "text/html": [
       "<table border='1'>\n",
       "<tr><th>VEH_MAKE_ID</th><th>Total_injury_count</th></tr>\n",
       "<tr><td>CHEVROLET</td><td>6986</td></tr>\n",
       "<tr><td>FORD</td><td>6949</td></tr>\n",
       "<tr><td>TOYOTA</td><td>4208</td></tr>\n",
       "<tr><td>DODGE</td><td>3134</td></tr>\n",
       "<tr><td>NISSAN</td><td>3097</td></tr>\n",
       "</table>\n"
      ],
      "text/plain": [
       "+-----------+------------------+\n",
       "|VEH_MAKE_ID|Total_injury_count|\n",
       "+-----------+------------------+\n",
       "|  CHEVROLET|              6986|\n",
       "|       FORD|              6949|\n",
       "|     TOYOTA|              4208|\n",
       "|      DODGE|              3134|\n",
       "|     NISSAN|              3097|\n",
       "+-----------+------------------+"
      ]
     },
     "execution_count": 22,
     "metadata": {},
     "output_type": "execute_result"
    }
   ],
   "source": [
    "df_top_5_injury_count"
   ]
  },
  {
   "cell_type": "code",
   "execution_count": 25,
   "id": "2dd429d3",
   "metadata": {},
   "outputs": [],
   "source": [
    "window_spec = Window.orderBy(df_top_5_injury_count[\"Total_injury_count\"].desc())\n",
    "\n",
    "# Apply Rank\n",
    "ranked_df = df_top_5_injury_count.withColumn(\"rank\", rank().over(window_spec))"
   ]
  },
  {
   "cell_type": "code",
   "execution_count": 29,
   "id": "c158b485",
   "metadata": {},
   "outputs": [],
   "source": [
    "ranked_df = ranked_df.filter(col('rank')>=3)"
   ]
  },
  {
   "cell_type": "code",
   "execution_count": null,
   "id": "1fe606f2",
   "metadata": {},
   "outputs": [],
   "source": []
  },
  {
   "cell_type": "code",
   "execution_count": null,
   "id": "8906cc05",
   "metadata": {},
   "outputs": [],
   "source": []
  },
  {
   "cell_type": "code",
   "execution_count": null,
   "id": "3e0ece79",
   "metadata": {},
   "outputs": [],
   "source": []
  },
  {
   "cell_type": "markdown",
   "id": "2f22293d",
   "metadata": {},
   "source": [
    "#### Analysis 7: For all the body styles involved in crashes, mention the top ethnic user group of each unique body style  "
   ]
  },
  {
   "cell_type": "code",
   "execution_count": 58,
   "id": "cfc52fb1",
   "metadata": {},
   "outputs": [],
   "source": [
    "ethnic_df = df_primary_person.filter(\"PRSN_ETHNICITY_ID != 'NA' and PRSN_ETHNICITY_ID != 'UNKNOWN' and PRSN_ETHNICITY_ID != 'OTHER'\").select('CRASH_ID','UNIT_NBR','PRSN_ETHNICITY_ID')"
   ]
  },
  {
   "cell_type": "code",
   "execution_count": 59,
   "id": "ce44b917",
   "metadata": {},
   "outputs": [],
   "source": [
    "body_style_df = df_units.filter(\"VEH_BODY_STYL_ID != 'NA' and VEH_BODY_STYL_ID != 'UNKNOWN' and VEH_BODY_STYL_ID != 'NOT REPORTED'\").filter(~col('VEH_BODY_STYL_ID').like('OTHER%')).select('CRASH_ID','UNIT_NBR','VEH_BODY_STYL_ID')"
   ]
  },
  {
   "cell_type": "code",
   "execution_count": 60,
   "id": "4152dd3c",
   "metadata": {},
   "outputs": [],
   "source": [
    "combined_df = body_style_df.join(ethnic_df,on=['CRASH_ID','UNIT_NBR'],how='inner')"
   ]
  },
  {
   "cell_type": "code",
   "execution_count": 61,
   "id": "b253d08a",
   "metadata": {},
   "outputs": [],
   "source": [
    "grouped_df = combined_df.groupBy('VEH_BODY_STYL_ID','PRSN_ETHNICITY_ID').count() "
   ]
  },
  {
   "cell_type": "code",
   "execution_count": 64,
   "id": "82d624bd",
   "metadata": {},
   "outputs": [],
   "source": [
    "window_spec = Window.partitionBy(\"VEH_BODY_STYL_ID\").orderBy(grouped_df[\"count\"].desc())\n",
    "\n",
    "# Apply Rank\n",
    "ranked_df = grouped_df.withColumn(\"rank\", rank().over(window_spec))"
   ]
  },
  {
   "cell_type": "code",
   "execution_count": 67,
   "id": "4749d7f7",
   "metadata": {},
   "outputs": [],
   "source": [
    "ranked_df = ranked_df.filter(col('rank')==1)"
   ]
  },
  {
   "cell_type": "code",
   "execution_count": 69,
   "id": "ac23bbb2",
   "metadata": {},
   "outputs": [],
   "source": [
    "ranked_df = ranked_df.drop('rank')"
   ]
  },
  {
   "cell_type": "code",
   "execution_count": null,
   "id": "40665618",
   "metadata": {},
   "outputs": [],
   "source": []
  },
  {
   "cell_type": "markdown",
   "id": "e77a86e5",
   "metadata": {},
   "source": [
    "#### Analysis 8: Among the crashed cars, what are the Top 5 Zip Codes with highest number crashes with alcohols as the contributing factor to a crash (Use Driver Zip Code)"
   ]
  },
  {
   "cell_type": "code",
   "execution_count": 78,
   "id": "7fc3dc35",
   "metadata": {},
   "outputs": [],
   "source": [
    "df_alcohol_influenced = df_primary_person.filter(\"PRSN_ALC_RSLT_ID == 'Positive' and DRVR_ZIP is not null\").select('DRVR_ZIP').groupBy('DRVR_ZIP').count()"
   ]
  },
  {
   "cell_type": "code",
   "execution_count": 82,
   "id": "66a5ccbf",
   "metadata": {},
   "outputs": [],
   "source": [
    "df_alcohol_influenced_top_5 = df_alcohol_influenced.orderBy(df_alcohol_influenced[\"count\"].desc()).limit(5)"
   ]
  },
  {
   "cell_type": "code",
   "execution_count": 87,
   "id": "442f2aff",
   "metadata": {},
   "outputs": [],
   "source": [
    "df_alcohol_influenced_top_5 = df_alcohol_influenced_top_5.withColumnRenamed('count',\"Crashes\")"
   ]
  },
  {
   "cell_type": "code",
   "execution_count": null,
   "id": "9b0eecc9",
   "metadata": {},
   "outputs": [],
   "source": []
  },
  {
   "cell_type": "markdown",
   "id": "e597b4b3",
   "metadata": {},
   "source": [
    "#### Analysis 9: Count of Distinct Crash IDs where No Damaged Property was observed and Damage Level (VEH_DMAG_SCL~) is above 4 and car avails Insurance"
   ]
  },
  {
   "cell_type": "code",
   "execution_count": 27,
   "id": "c7995a61",
   "metadata": {},
   "outputs": [],
   "source": [
    "no_insurance_df = df_charges.filter(col('CHARGE').contains('NO')).filter(col('CHARGE').contains('INSURANCE')).select('CRASH_ID','UNIT_NBR').withColumnRenamed('CRASH_ID','I_CRASH_ID').withColumnRenamed('UNIT_NBR','I_UNIT_NBR')"
   ]
  },
  {
   "cell_type": "code",
   "execution_count": 28,
   "id": "2fa58888",
   "metadata": {},
   "outputs": [],
   "source": [
    "damaged_df = df_damages.select('CRASH_ID').distinct().withColumnRenamed('CRASH_ID','D_CRASH_ID')"
   ]
  },
  {
   "cell_type": "code",
   "execution_count": 29,
   "id": "ddc9ff4a",
   "metadata": {},
   "outputs": [],
   "source": [
    "joined_df= df_units.join(no_insurance_df,(df_units['CRASH_ID']==no_insurance_df['I_CRASH_ID']) & (df_units['UNIT_NBR']==no_insurance_df['I_UNIT_NBR']),how='left')"
   ]
  },
  {
   "cell_type": "code",
   "execution_count": 30,
   "id": "0ee912cf",
   "metadata": {},
   "outputs": [],
   "source": [
    "units_joined_df = joined_df.filter(\"I_CRASH_ID is null\").select('CRASH_ID','UNIT_NBR','VEH_DMAG_SCL_1_ID','VEH_DMAG_SCL_2_ID')"
   ]
  },
  {
   "cell_type": "code",
   "execution_count": 31,
   "id": "78d1d805",
   "metadata": {},
   "outputs": [],
   "source": [
    "damaged_df_combined = units_joined_df.join(damaged_df,units_joined_df['CRASH_ID']==damaged_df['D_CRASH_ID'],how='left')"
   ]
  },
  {
   "cell_type": "code",
   "execution_count": 32,
   "id": "e6d14742",
   "metadata": {},
   "outputs": [],
   "source": [
    "combined= damaged_df_combined.filter(\"D_CRASH_ID is null\").select('CRASH_ID','VEH_DMAG_SCL_1_ID','VEH_DMAG_SCL_2_ID')"
   ]
  },
  {
   "cell_type": "code",
   "execution_count": 33,
   "id": "f337277b",
   "metadata": {},
   "outputs": [],
   "source": [
    "result_2 = combined.withColumn('DMAG1_RANGE',regexp_extract(col('VEH_DMAG_SCL_1_ID'), \"\\\\d+\", 0)) \\\n",
    "            .withColumn('DMAG2_RANGE',regexp_extract(col('VEH_DMAG_SCL_2_ID'), \"\\\\d+\", 0)) \\\n",
    "            .filter(\"DMAG1_RANGE > 4 or DMAG2_RANGE > 4\") \\\n",
    "            .select('CRASH_ID').distinct().count()"
   ]
  },
  {
   "cell_type": "code",
   "execution_count": 34,
   "id": "a3d6b2cd",
   "metadata": {},
   "outputs": [],
   "source": [
    "result = combined.withColumn('DMAG1_RANGE',regexp_extract(col('VEH_DMAG_SCL_1_ID'), \"\\\\d+\", 0)) \\\n",
    "            .withColumn('DMAG2_RANGE',regexp_extract(col('VEH_DMAG_SCL_2_ID'), \"\\\\d+\", 0)) \\\n",
    "            .filter(\"DMAG1_RANGE > 4 or DMAG2_RANGE > 4\") \\\n",
    "            .select('CRASH_ID').distinct()"
   ]
  },
  {
   "cell_type": "code",
   "execution_count": 35,
   "id": "1a165df5",
   "metadata": {},
   "outputs": [
    {
     "data": {
      "text/plain": [
       "9468"
      ]
     },
     "execution_count": 35,
     "metadata": {},
     "output_type": "execute_result"
    }
   ],
   "source": [
    "result_2"
   ]
  },
  {
   "cell_type": "code",
   "execution_count": 37,
   "id": "0995e8cf",
   "metadata": {},
   "outputs": [
    {
     "data": {
      "text/html": [
       "<table border='1'>\n",
       "<tr><th>count</th></tr>\n",
       "<tr><td>9468</td></tr>\n",
       "</table>\n"
      ],
      "text/plain": [
       "+-----+\n",
       "|count|\n",
       "+-----+\n",
       "| 9468|\n",
       "+-----+"
      ]
     },
     "execution_count": 37,
     "metadata": {},
     "output_type": "execute_result"
    }
   ],
   "source": [
    "result.agg(count('CRASH_ID').alias('count'))"
   ]
  },
  {
   "cell_type": "markdown",
   "id": "0016bd94",
   "metadata": {},
   "source": [
    "#### Analysis 10: Determine the Top 5 Vehicle Makes where drivers are charged with speeding related offences, has licensed Drivers, used top 10 used vehicle colours and has car licensed with the Top 25 states with highest number of offences (to be deduced from the data)"
   ]
  },
  {
   "cell_type": "code",
   "execution_count": 121,
   "id": "27304233",
   "metadata": {},
   "outputs": [],
   "source": [
    "speed_charge_df = df_charges.filter(col('CHARGE').contains('SPEED')).select('CRASH_ID','UNIT_NBR','CHARGE') "
   ]
  },
  {
   "cell_type": "code",
   "execution_count": 138,
   "id": "081d6bfb",
   "metadata": {},
   "outputs": [],
   "source": [
    "top_col_df = df_units.filter(\"VEH_COLOR_ID != 'NA'\").select('VEH_COLOR_ID').groupBy('VEH_COLOR_ID').count()"
   ]
  },
  {
   "cell_type": "code",
   "execution_count": 141,
   "id": "933733cd",
   "metadata": {},
   "outputs": [],
   "source": [
    "top_col_df = top_col_df.withColumn('rn',row_number().over(Window.orderBy(col('count').desc()))).filter(\"rn <=10\").select('VEH_COLOR_ID')"
   ]
  },
  {
   "cell_type": "code",
   "execution_count": 143,
   "id": "38bba327",
   "metadata": {},
   "outputs": [],
   "source": [
    "top_states_df = df_units.filter(~col('VEH_LIC_STATE_ID').isin(['NA'])).select('VEH_LIC_STATE_ID').groupBy('VEH_LIC_STATE_ID').count()"
   ]
  },
  {
   "cell_type": "code",
   "execution_count": 144,
   "id": "4680de4e",
   "metadata": {},
   "outputs": [],
   "source": [
    "top_states_df = top_states_df.withColumn('rn',row_number().over(Window.orderBy(col('count').desc()))).filter(\"rn <=25\").select('VEH_LIC_STATE_ID')"
   ]
  },
  {
   "cell_type": "code",
   "execution_count": 145,
   "id": "945de1f4",
   "metadata": {},
   "outputs": [],
   "source": [
    "subjoin = df_units.join(top_col_df,on=['VEH_COLOR_ID'],how='inner').select('CRASH_ID','UNIT_NBR','VEH_MAKE_ID','VEH_LIC_STATE_ID')"
   ]
  },
  {
   "cell_type": "code",
   "execution_count": 147,
   "id": "9bd1bb3d",
   "metadata": {},
   "outputs": [],
   "source": [
    "chargeSubJoin = subjoin.join(speed_charge_df,on=['CRASH_ID','UNIT_NBR'],how='inner').select('CRASH_ID','UNIT_NBR','VEH_MAKE_ID','VEH_LIC_STATE_ID')"
   ]
  },
  {
   "cell_type": "code",
   "execution_count": 148,
   "id": "4ee687a5",
   "metadata": {},
   "outputs": [],
   "source": [
    "combined_df = chargeSubJoin.join(top_states_df,on=['VEH_LIC_STATE_ID'],how='inner').select('CRASH_ID','UNIT_NBR','VEH_MAKE_ID')"
   ]
  },
  {
   "cell_type": "code",
   "execution_count": 149,
   "id": "3e9b09c6",
   "metadata": {},
   "outputs": [],
   "source": [
    "licensed_df = df_primary_person.filter(\"DRVR_LIC_CLS_ID != 'UNLICENSED'\").select('CRASH_ID','UNIT_NBR')"
   ]
  },
  {
   "cell_type": "code",
   "execution_count": 150,
   "id": "7f71ccbd",
   "metadata": {},
   "outputs": [],
   "source": [
    "final_df = combined_df.join(licensed_df,on=['CRASH_ID','UNIT_NBR'],how='inner').select('CRASH_ID','VEH_MAKE_ID').groupBy('VEH_MAKE_ID').count() "
   ]
  },
  {
   "cell_type": "code",
   "execution_count": 152,
   "id": "160e75c7",
   "metadata": {},
   "outputs": [],
   "source": [
    "final_df = final_df.withColumn('rn',row_number().over(Window.orderBy(col('count').desc()))).filter(\"rn <= 5\").select('VEH_MAKE_ID')"
   ]
  },
  {
   "cell_type": "code",
   "execution_count": null,
   "id": "c71dcc04",
   "metadata": {},
   "outputs": [],
   "source": []
  },
  {
   "cell_type": "code",
   "execution_count": null,
   "id": "51481844",
   "metadata": {},
   "outputs": [],
   "source": []
  },
  {
   "cell_type": "code",
   "execution_count": null,
   "id": "d5a4501d",
   "metadata": {},
   "outputs": [],
   "source": []
  },
  {
   "cell_type": "code",
   "execution_count": 128,
   "id": "b12a7661",
   "metadata": {},
   "outputs": [],
   "source": [
    "top_25_states = df_primary_person_corrected.groupBy(\"DRVR_LIC_STATE_ID\").agg(count(\"*\").alias(\"count\")).orderBy(desc(\"count\")).limit(25)"
   ]
  },
  {
   "cell_type": "code",
   "execution_count": 132,
   "id": "b3d96fb3",
   "metadata": {},
   "outputs": [
    {
     "data": {
      "text/plain": [
       "[Column<'DRVR_LIC_STATE_ID'>]"
      ]
     },
     "execution_count": 132,
     "metadata": {},
     "output_type": "execute_result"
    }
   ],
   "source": [
    "list(top_25_states.select('DRVR_LIC_STATE_ID'))"
   ]
  },
  {
   "cell_type": "code",
   "execution_count": 133,
   "id": "29339ab2",
   "metadata": {},
   "outputs": [],
   "source": [
    "column_list = top_25_states.select(\"DRVR_LIC_STATE_ID\").collect()\n",
    "column_list = [row[\"DRVR_LIC_STATE_ID\"] for row in column_list]"
   ]
  },
  {
   "cell_type": "code",
   "execution_count": 134,
   "id": "8b21da76",
   "metadata": {},
   "outputs": [
    {
     "data": {
      "text/plain": [
       "['Texas',\n",
       " 'NA',\n",
       " 'Unknown',\n",
       " 'Mexico',\n",
       " 'Louisiana',\n",
       " 'New Mexico',\n",
       " 'California',\n",
       " 'Florida',\n",
       " 'Oklahoma',\n",
       " 'Other',\n",
       " 'Arkansas',\n",
       " 'Arizona',\n",
       " 'Georgia',\n",
       " 'Colorado',\n",
       " 'Illinois',\n",
       " 'Tennessee',\n",
       " 'Missouri',\n",
       " 'Mississippi',\n",
       " 'North Carolina',\n",
       " 'Kansas',\n",
       " 'Alabama',\n",
       " 'Michigan',\n",
       " 'Washington',\n",
       " 'Ohio',\n",
       " 'New York']"
      ]
     },
     "execution_count": 134,
     "metadata": {},
     "output_type": "execute_result"
    }
   ],
   "source": [
    "column_list"
   ]
  },
  {
   "cell_type": "code",
   "execution_count": 136,
   "id": "ae50c561",
   "metadata": {},
   "outputs": [
    {
     "data": {
      "text/html": [
       "<table border='1'>\n",
       "<tr><th>VEH_COLOR_ID</th><th>count</th></tr>\n",
       "<tr><td>NA</td><td>5805</td></tr>\n",
       "<tr><td>WHI</td><td>67</td></tr>\n",
       "<tr><td>BLK</td><td>42</td></tr>\n",
       "<tr><td>GRN</td><td>28</td></tr>\n",
       "<tr><td>BLU</td><td>26</td></tr>\n",
       "<tr><td>RED</td><td>22</td></tr>\n",
       "<tr><td>SIL</td><td>15</td></tr>\n",
       "<tr><td>GRY</td><td>13</td></tr>\n",
       "<tr><td>99</td><td>11</td></tr>\n",
       "<tr><td>YEL</td><td>8</td></tr>\n",
       "<tr><td>ONG</td><td>6</td></tr>\n",
       "<tr><td>BGE</td><td>5</td></tr>\n",
       "<tr><td>MAR</td><td>4</td></tr>\n",
       "<tr><td>TAN</td><td>3</td></tr>\n",
       "<tr><td>MUL</td><td>3</td></tr>\n",
       "<tr><td>GLD</td><td>3</td></tr>\n",
       "<tr><td>BRO</td><td>2</td></tr>\n",
       "<tr><td>PLE</td><td>1</td></tr>\n",
       "<tr><td>PNK</td><td>1</td></tr>\n",
       "</table>\n"
      ],
      "text/plain": [
       "+------------+-----+\n",
       "|VEH_COLOR_ID|count|\n",
       "+------------+-----+\n",
       "|          NA| 5805|\n",
       "|         WHI|   67|\n",
       "|         BLK|   42|\n",
       "|         GRN|   28|\n",
       "|         BLU|   26|\n",
       "|         RED|   22|\n",
       "|         SIL|   15|\n",
       "|         GRY|   13|\n",
       "|          99|   11|\n",
       "|         YEL|    8|\n",
       "|         ONG|    6|\n",
       "|         BGE|    5|\n",
       "|         MAR|    4|\n",
       "|         GLD|    3|\n",
       "|         MUL|    3|\n",
       "|         TAN|    3|\n",
       "|         BRO|    2|\n",
       "|         PLE|    1|\n",
       "|         PNK|    1|\n",
       "+------------+-----+"
      ]
     },
     "execution_count": 136,
     "metadata": {},
     "output_type": "execute_result"
    }
   ],
   "source": [
    "df_units.filter(col('VEH_LIC_STATE_ID').isin(column_list)).groupBy(\"VEH_COLOR_ID\").agg(count(\"*\").alias(\"count\")).orderBy(desc(\"count\")).limit(25)"
   ]
  },
  {
   "cell_type": "code",
   "execution_count": null,
   "id": "7e2ac155",
   "metadata": {},
   "outputs": [],
   "source": []
  },
  {
   "cell_type": "code",
   "execution_count": 160,
   "id": "e7cc5b5b",
   "metadata": {},
   "outputs": [],
   "source": [
    "df = 123"
   ]
  },
  {
   "cell_type": "code",
   "execution_count": 158,
   "id": "ac865ed4",
   "metadata": {},
   "outputs": [],
   "source": [
    "data = [(int_value,)]\n",
    "\n",
    "# Create a DataFrame from the list\n",
    "df = spark.createDataFrame(data, [\"integer_column\"])"
   ]
  },
  {
   "cell_type": "code",
   "execution_count": 159,
   "id": "5d037c8e",
   "metadata": {},
   "outputs": [
    {
     "data": {
      "text/html": [
       "<table border='1'>\n",
       "<tr><th>integer_column</th></tr>\n",
       "<tr><td>123</td></tr>\n",
       "</table>\n"
      ],
      "text/plain": [
       "+--------------+\n",
       "|integer_column|\n",
       "+--------------+\n",
       "|           123|\n",
       "+--------------+"
      ]
     },
     "execution_count": 159,
     "metadata": {},
     "output_type": "execute_result"
    }
   ],
   "source": [
    "df"
   ]
  },
  {
   "cell_type": "code",
   "execution_count": 165,
   "id": "fcbd1cda",
   "metadata": {},
   "outputs": [],
   "source": [
    "def process_input(input_data):\n",
    "    if isinstance(input_data, int):\n",
    "        df = spark.createDataFrame([(input_data,)], [\"Count\"])\n",
    "    elif isinstance(input_data, DataFrame):\n",
    "        df = input_data\n",
    "    else:\n",
    "        raise ValueError(\"Input must be an integer or a DataFrame\")\n",
    "\n",
    "    return df"
   ]
  },
  {
   "cell_type": "code",
   "execution_count": 166,
   "id": "8e8b99bc",
   "metadata": {},
   "outputs": [
    {
     "data": {
      "text/html": [
       "<table border='1'>\n",
       "<tr><th>Count</th></tr>\n",
       "<tr><td>123</td></tr>\n",
       "</table>\n"
      ],
      "text/plain": [
       "+-----+\n",
       "|Count|\n",
       "+-----+\n",
       "|  123|\n",
       "+-----+"
      ]
     },
     "execution_count": 166,
     "metadata": {},
     "output_type": "execute_result"
    }
   ],
   "source": [
    "process_input(df)"
   ]
  },
  {
   "cell_type": "code",
   "execution_count": null,
   "id": "dcfc25c8",
   "metadata": {},
   "outputs": [],
   "source": [
    "spark.stop()"
   ]
  }
 ],
 "metadata": {
  "kernelspec": {
   "display_name": "Pyspark 3",
   "language": "python",
   "name": "pyspark3"
  },
  "language_info": {
   "codemirror_mode": {
    "name": "ipython",
    "version": 3
   },
   "file_extension": ".py",
   "mimetype": "text/x-python",
   "name": "python",
   "nbconvert_exporter": "python",
   "pygments_lexer": "ipython3",
   "version": "3.6.12"
  }
 },
 "nbformat": 4,
 "nbformat_minor": 5
}
